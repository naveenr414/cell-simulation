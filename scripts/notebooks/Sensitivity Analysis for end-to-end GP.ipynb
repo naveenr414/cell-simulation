{
 "cells": [
  {
   "cell_type": "code",
   "execution_count": 1,
   "id": "9e93e359",
   "metadata": {},
   "outputs": [],
   "source": [
    "%load_ext autoreload\n",
    "%autoreload 2"
   ]
  },
  {
   "cell_type": "code",
   "execution_count": 3,
   "id": "1d26959e",
   "metadata": {},
   "outputs": [],
   "source": [
    "import os\n",
    "os.chdir(\"../\")"
   ]
  },
  {
   "cell_type": "code",
   "execution_count": 2,
   "id": "102c560c",
   "metadata": {},
   "outputs": [
    {
     "name": "stdout",
     "output_type": "stream",
     "text": [
      "Requirement already satisfied: emukit in /opt/anaconda3/lib/python3.7/site-packages (0.4.10)\n",
      "Requirement already satisfied: numpy>=1.14.5 in /opt/anaconda3/lib/python3.7/site-packages (from emukit) (1.21.0)\n",
      "Requirement already satisfied: scipy>=1.1.0 in /opt/anaconda3/lib/python3.7/site-packages (from emukit) (1.7.0)\n",
      "Requirement already satisfied: emcee>=2.2.1 in /opt/anaconda3/lib/python3.7/site-packages (from emukit) (3.1.3)\n",
      "Requirement already satisfied: setuptools>=40.8.0 in /opt/anaconda3/lib/python3.7/site-packages (from emukit) (57.0.0)\n",
      "Requirement already satisfied: GPy[plotting]>=1.10.0 in /opt/anaconda3/lib/python3.7/site-packages (from emukit) (1.10.0)\n",
      "Requirement already satisfied: cython>=0.29 in /opt/anaconda3/lib/python3.7/site-packages (from GPy[plotting]>=1.10.0->emukit) (0.29.23)\n",
      "Requirement already satisfied: paramz>=0.9.0 in /opt/anaconda3/lib/python3.7/site-packages (from GPy[plotting]>=1.10.0->emukit) (0.9.5)\n",
      "Requirement already satisfied: six in /opt/anaconda3/lib/python3.7/site-packages (from GPy[plotting]>=1.10.0->emukit) (1.14.0)\n",
      "Requirement already satisfied: plotly>=1.8.6; extra == \"plotting\" in /opt/anaconda3/lib/python3.7/site-packages (from GPy[plotting]>=1.10.0->emukit) (5.1.0)\n",
      "Requirement already satisfied: matplotlib>=3.0; extra == \"plotting\" in /opt/anaconda3/lib/python3.7/site-packages (from GPy[plotting]>=1.10.0->emukit) (3.4.2)\n",
      "Requirement already satisfied: decorator>=4.0.10 in /opt/anaconda3/lib/python3.7/site-packages (from paramz>=0.9.0->GPy[plotting]>=1.10.0->emukit) (4.4.1)\n",
      "Requirement already satisfied: tenacity>=6.2.0 in /opt/anaconda3/lib/python3.7/site-packages (from plotly>=1.8.6; extra == \"plotting\"->GPy[plotting]>=1.10.0->emukit) (7.0.0)\n",
      "Requirement already satisfied: pyparsing>=2.2.1 in /opt/anaconda3/lib/python3.7/site-packages (from matplotlib>=3.0; extra == \"plotting\"->GPy[plotting]>=1.10.0->emukit) (2.4.6)\n",
      "Requirement already satisfied: cycler>=0.10 in /opt/anaconda3/lib/python3.7/site-packages (from matplotlib>=3.0; extra == \"plotting\"->GPy[plotting]>=1.10.0->emukit) (0.10.0)\n",
      "Requirement already satisfied: python-dateutil>=2.7 in /opt/anaconda3/lib/python3.7/site-packages (from matplotlib>=3.0; extra == \"plotting\"->GPy[plotting]>=1.10.0->emukit) (2.8.1)\n",
      "Requirement already satisfied: pillow>=6.2.0 in /opt/anaconda3/lib/python3.7/site-packages (from matplotlib>=3.0; extra == \"plotting\"->GPy[plotting]>=1.10.0->emukit) (7.0.0)\n",
      "Requirement already satisfied: kiwisolver>=1.0.1 in /opt/anaconda3/lib/python3.7/site-packages (from matplotlib>=3.0; extra == \"plotting\"->GPy[plotting]>=1.10.0->emukit) (1.1.0)\n",
      "Requirement already satisfied: pyDOE in /opt/anaconda3/lib/python3.7/site-packages (0.3.8)\n",
      "Requirement already satisfied: numpy in /opt/anaconda3/lib/python3.7/site-packages (from pyDOE) (1.21.0)\n",
      "Requirement already satisfied: scipy in /opt/anaconda3/lib/python3.7/site-packages (from pyDOE) (1.7.0)\n"
     ]
    }
   ],
   "source": [
    "!pip install emukit\n",
    "!pip install pyDOE"
   ]
  },
  {
   "cell_type": "code",
   "execution_count": 4,
   "id": "424cb3e0",
   "metadata": {},
   "outputs": [],
   "source": [
    "from data_processing.start_experiment import *\n",
    "from data_processing.read_data import *\n",
    "from data_processing.gaussian import *"
   ]
  },
  {
   "cell_type": "code",
   "execution_count": 26,
   "id": "ba773b66",
   "metadata": {},
   "outputs": [
    {
     "ename": "ModuleNotFoundError",
     "evalue": "No module named 'skopt'",
     "output_type": "error",
     "traceback": [
      "\u001b[0;31m---------------------------------------------------------------------------\u001b[0m",
      "\u001b[0;31mModuleNotFoundError\u001b[0m                       Traceback (most recent call last)",
      "\u001b[0;32m<ipython-input-26-893e33dae94e>\u001b[0m in \u001b[0;36m<module>\u001b[0;34m\u001b[0m\n\u001b[1;32m     33\u001b[0m \u001b[0;32mimport\u001b[0m \u001b[0msubprocess\u001b[0m\u001b[0;34m\u001b[0m\u001b[0;34m\u001b[0m\u001b[0m\n\u001b[1;32m     34\u001b[0m \u001b[0;32mfrom\u001b[0m \u001b[0msklearn\u001b[0m\u001b[0;34m.\u001b[0m\u001b[0mgaussian_process\u001b[0m \u001b[0;32mimport\u001b[0m \u001b[0mGaussianProcessRegressor\u001b[0m\u001b[0;34m\u001b[0m\u001b[0;34m\u001b[0m\u001b[0m\n\u001b[0;32m---> 35\u001b[0;31m \u001b[0;32mfrom\u001b[0m \u001b[0mskopt\u001b[0m \u001b[0;32mimport\u001b[0m \u001b[0mgp_minimize\u001b[0m\u001b[0;34m\u001b[0m\u001b[0;34m\u001b[0m\u001b[0m\n\u001b[0m",
      "\u001b[0;31mModuleNotFoundError\u001b[0m: No module named 'skopt'"
     ]
    }
   ],
   "source": [
    "# import matplotlib.pyplot as plt\n",
    "# import numpy as np\n",
    "# from emukit.core import ParameterSpace, ContinuousParameter, DiscreteParameter\n",
    "# from emukit.core.initial_designs import RandomDesign\n",
    "# from emukit.core.initial_designs.latin_design import LatinDesign\n",
    "# from GPy.models import GPRegression\n",
    "# from emukit.model_wrappers import GPyModelWrapper\n",
    "# import GPy\n",
    "# from emukit.sensitivity.monte_carlo import MonteCarloSensitivity\n",
    "# import time\n",
    "\n",
    "import matplotlib.pyplot as plt\n",
    "import numpy as np\n",
    "from emukit.core import ParameterSpace, ContinuousParameter, DiscreteParameter\n",
    "from emukit.core.initial_designs import RandomDesign\n",
    "from emukit.core.initial_designs.latin_design import LatinDesign\n",
    "from GPy.models import GPRegression\n",
    "from emukit.model_wrappers import GPyModelWrapper\n",
    "import GPy\n",
    "from emukit.sensitivity.monte_carlo import MonteCarloSensitivity\n",
    "import time\n",
    "import random\n",
    "from sklearn import tree\n",
    "from sklearn.datasets import make_friedman2\n",
    "from emukit.quadrature.methods import VanillaBayesianQuadrature\n",
    "from emukit.quadrature.loop import VanillaBayesianQuadratureLoop\n",
    "from emukit.core.initial_designs import RandomDesign\n",
    "from GPy.models import GPRegression\n",
    "from emukit.model_wrappers import GPyModelWrapper\n",
    "from emukit.bayesian_optimization.acquisitions import ExpectedImprovement, EntropySearch\n",
    "from emukit.experimental_design.acquisitions import IntegratedVarianceReduction\n",
    "from emukit.bayesian_optimization.loops import BayesianOptimizationLoop\n",
    "import subprocess\n",
    "from sklearn.gaussian_process import GaussianProcessRegressor\n",
    "from skopt import gp_minimize"
   ]
  },
  {
   "cell_type": "code",
   "execution_count": null,
   "id": "de2558a9",
   "metadata": {},
   "outputs": [],
   "source": [
    "from emukit.core.interfaces import IModel, IDifferentiable\n",
    "\n",
    "class SklearnGPModel(IModel,IDifferentiable):\n",
    "    def __init__(self, sklearn_model):\n",
    "        self.model = sklearn_model\n",
    "\n",
    "    def predict(self, X):\n",
    "        mean, std = self.model.predict(X, return_std=True)\n",
    "        return mean[:, None], np.square(std)[:, None]\n",
    "\n",
    "    def set_data(self, X: np.ndarray, Y: np.ndarray) -> None:\n",
    "        self.model.fit(X, Y)\n",
    "\n",
    "    def optimize(self, verbose: bool = False) -> None:\n",
    "        # There is no separate optimization routine for sklearn models\n",
    "        pass\n",
    "    \n",
    "    \n",
    "\n",
    "    @property\n",
    "    def X(self) -> np.ndarray:\n",
    "        return self.model.X_train_\n",
    "\n",
    "    @property\n",
    "    def Y(self) -> np.ndarray:\n",
    "        return self.model.y_train_\n",
    "\n"
   ]
  },
  {
   "cell_type": "markdown",
   "id": "4a4b7488",
   "metadata": {},
   "source": [
    "# Loading in Data"
   ]
  },
  {
   "cell_type": "code",
   "execution_count": 6,
   "id": "c8dc2527",
   "metadata": {},
   "outputs": [],
   "source": [
    "num_experiments = 100\n",
    "parameter_list_small = ['gamma', 'gradnoise']\n",
    "parameter_list =  ['season_duration', 'gamma', 'mut_rate', 'T', 'target_area', 'gradnoise']\n",
    "parameter_space_small = ParameterSpace([\n",
    "                                DiscreteParameter('gamma',list(range(0,25))),\n",
    "                                ContinuousParameter('gradnoise',0.25,0.99)])\n",
    "parameter_space = ParameterSpace([DiscreteParameter('season_duration',list(range(100,1001,10))), \n",
    "                                 DiscreteParameter('gamma',list(range(0,25))), \n",
    "                                 ContinuousParameter('mut_rate',0,0.5),\n",
    "                                 ContinuousParameter('T',1,100),\n",
    "                                 DiscreteParameter('target_area',list(range(1,101))),\n",
    "                                 ContinuousParameter('gradnoise',0.25,0.99)])\n",
    "                      "
   ]
  },
  {
   "cell_type": "code",
   "execution_count": 7,
   "id": "89530fde",
   "metadata": {},
   "outputs": [],
   "source": [
    "file_names = [\"latin/latin_{}.par\".format(i) for i in range(num_experiments)]\n",
    "data_files = [\"latin/data_cellcount_{}.txt\".format(i) for i in range(num_experiments)]\n",
    "\n",
    "file_names_small = [\"gradient_latin/latin_{}.par\".format(i) for i in range(num_experiments)]\n",
    "data_files_small = [\"gradient_latin/data_cellcount_{}.txt\".format(i) for i in range(num_experiments)]"
   ]
  },
  {
   "cell_type": "code",
   "execution_count": 20,
   "id": "42600c11",
   "metadata": {},
   "outputs": [],
   "source": [
    "def extract_data(file_names,data_files,parameter_list, output_function):\n",
    "    X = get_parameter_array(file_names,parameter_list)\n",
    "\n",
    "    # Some files have no data; don't get those\n",
    "    unrun_files = get_no_data(data_files) \n",
    "    X_no_data = X[unrun_files,:]\n",
    "\n",
    "    X = np.delete(X,unrun_files,axis=0)\n",
    "    \n",
    "    all_data = [read_data(file_name) for i,file_name in enumerate(data_files) if i not in unrun_files]\n",
    "    Y = get_rewards(data_files,lambda s: len(s))\n",
    "    \n",
    "    run_to_completion = Y>5000\n",
    "    X_full, Y_full = X[run_to_completion.flatten(),:], Y[run_to_completion.flatten()]\n",
    "    X_full[0,:] = np.lcm(X_full[0,:].astype(int),25)\n",
    "    \n",
    "    data_full = [data for i,data in enumerate(all_data) if run_to_completion[i,0] == True]\n",
    "    num_blob_data = np.array([[output_function(data,j) for j in range(0,50000,1000)] for data in data_full])\n",
    "    \n",
    "    return X_full, num_blob_data"
   ]
  },
  {
   "cell_type": "code",
   "execution_count": 22,
   "id": "36a0bea0",
   "metadata": {},
   "outputs": [],
   "source": [
    "X, num_blob_data = extract_data(file_names,data_files,parameter_list, num_blobs_cells)"
   ]
  },
  {
   "cell_type": "code",
   "execution_count": 23,
   "id": "ef08dd47",
   "metadata": {},
   "outputs": [],
   "source": [
    "X, weighted_blob_size_data = extract_data(file_names,data_files,parameter_list, weighted_blobsize_cells) "
   ]
  },
  {
   "cell_type": "code",
   "execution_count": 24,
   "id": "5598dd6b",
   "metadata": {},
   "outputs": [
    {
     "name": "stdout",
     "output_type": "stream",
     "text": [
      "(75, 6)\n",
      "(75, 50)\n"
     ]
    }
   ],
   "source": [
    "print(X.shape)\n",
    "print(num_blob_data.shape)"
   ]
  },
  {
   "attachments": {},
   "cell_type": "markdown",
   "id": "8a886c3c",
   "metadata": {},
   "source": [
    "# 1. Decision Trees (based off Multicellularity over time's notebook)"
   ]
  },
  {
   "attachments": {},
   "cell_type": "markdown",
   "id": "3697adaf",
   "metadata": {},
   "source": [
    "### 1a. Comparing decision trees for num_blob_cells at start vs. end of simulation (replicating work in multicellularity over time's)"
   ]
  },
  {
   "attachments": {},
   "cell_type": "markdown",
   "id": "fb45cdc9",
   "metadata": {},
   "source": [
    "Plot tree classifier for beginning of simulation (MCS = 0)"
   ]
  },
  {
   "cell_type": "code",
   "execution_count": 25,
   "id": "82b7a337",
   "metadata": {},
   "outputs": [
    {
     "ename": "NameError",
     "evalue": "name 'tree' is not defined",
     "output_type": "error",
     "traceback": [
      "\u001b[0;31m---------------------------------------------------------------------------\u001b[0m",
      "\u001b[0;31mNameError\u001b[0m                                 Traceback (most recent call last)",
      "\u001b[0;32m<ipython-input-25-d3bf8f375571>\u001b[0m in \u001b[0;36m<module>\u001b[0;34m\u001b[0m\n\u001b[1;32m      2\u001b[0m \u001b[0mY_tree_nblob\u001b[0m \u001b[0;34m=\u001b[0m \u001b[0mnum_blob_data\u001b[0m\u001b[0;34m[\u001b[0m\u001b[0;34m:\u001b[0m\u001b[0;34m,\u001b[0m\u001b[0;36m0\u001b[0m\u001b[0;34m]\u001b[0m\u001b[0;34m.\u001b[0m\u001b[0mreshape\u001b[0m\u001b[0;34m(\u001b[0m\u001b[0mlen\u001b[0m\u001b[0;34m(\u001b[0m\u001b[0mnum_blob_data\u001b[0m\u001b[0;34m)\u001b[0m\u001b[0;34m,\u001b[0m\u001b[0;36m1\u001b[0m\u001b[0;34m)\u001b[0m\u001b[0;34m\u001b[0m\u001b[0;34m\u001b[0m\u001b[0m\n\u001b[1;32m      3\u001b[0m \u001b[0;34m\u001b[0m\u001b[0m\n\u001b[0;32m----> 4\u001b[0;31m \u001b[0mclf_nblob\u001b[0m \u001b[0;34m=\u001b[0m \u001b[0mtree\u001b[0m\u001b[0;34m.\u001b[0m\u001b[0mDecisionTreeClassifier\u001b[0m\u001b[0;34m(\u001b[0m\u001b[0;34m)\u001b[0m\u001b[0;34m\u001b[0m\u001b[0;34m\u001b[0m\u001b[0m\n\u001b[0m\u001b[1;32m      5\u001b[0m \u001b[0mclf_nblob\u001b[0m\u001b[0;34m.\u001b[0m\u001b[0mfit\u001b[0m\u001b[0;34m(\u001b[0m\u001b[0mX_tree_nblob\u001b[0m\u001b[0;34m,\u001b[0m\u001b[0mY_tree_nblob\u001b[0m\u001b[0;34m)\u001b[0m\u001b[0;34m\u001b[0m\u001b[0;34m\u001b[0m\u001b[0m\n",
      "\u001b[0;31mNameError\u001b[0m: name 'tree' is not defined"
     ]
    }
   ],
   "source": [
    "X_tree_nblob= X\n",
    "Y_tree_nblob = num_blob_data[:,0].reshape(len(num_blob_data),1)\n",
    "\n",
    "clf_nblob = tree.DecisionTreeClassifier()\n",
    "clf_nblob.fit(X_tree_nblob,Y_tree_nblob)"
   ]
  },
  {
   "cell_type": "code",
   "execution_count": null,
   "id": "b053399e",
   "metadata": {},
   "outputs": [],
   "source": [
    "plt.figure(figsize=(12,12))\n",
    "tree.plot_tree(clf_nblob,fontsize=12)"
   ]
  },
  {
   "cell_type": "code",
   "execution_count": null,
   "id": "0aedb701",
   "metadata": {},
   "outputs": [],
   "source": [
    "clf_nblob.feature_importances_"
   ]
  },
  {
   "cell_type": "code",
   "execution_count": null,
   "id": "af041e7c",
   "metadata": {},
   "outputs": [],
   "source": [
    "Y_tree_rounded_nblob = np.digitize(Y_tree_nblob,[0,20,100])\n",
    "clf_nblob = tree.DecisionTreeClassifier()\n",
    "clf_nblob.fit(X_tree_nblob,Y_tree_rounded_nblob)"
   ]
  },
  {
   "cell_type": "code",
   "execution_count": null,
   "id": "21fc590b",
   "metadata": {},
   "outputs": [],
   "source": [
    "plt.figure(figsize=(12,12))\n",
    "tree.plot_tree(clf_nblob,fontsize=12)"
   ]
  },
  {
   "attachments": {},
   "cell_type": "markdown",
   "id": "2da5d3fe",
   "metadata": {},
   "source": [
    "Plot tree classifier for end of simulation (MCS = 50k)"
   ]
  },
  {
   "cell_type": "code",
   "execution_count": 27,
   "id": "43ca5262",
   "metadata": {},
   "outputs": [
    {
     "data": {
      "text/plain": [
       "DecisionTreeClassifier()"
      ]
     },
     "execution_count": 27,
     "metadata": {},
     "output_type": "execute_result"
    }
   ],
   "source": []
  },
  {
   "cell_type": "code",
   "execution_count": null,
   "id": "eaa00658",
   "metadata": {},
   "outputs": [],
   "source": []
  },
  {
   "attachments": {},
   "cell_type": "markdown",
   "id": "c5d9a4a9",
   "metadata": {},
   "source": [
    "### 1b. Comparing decision trees for weighted_blob_size at start vs. end of simulation (replicating work in multicellularity over time's)"
   ]
  },
  {
   "attachments": {},
   "cell_type": "markdown",
   "id": "71cd2272",
   "metadata": {},
   "source": [
    "Plot tree classifier for beginning of simulation (MCS = 0)"
   ]
  },
  {
   "cell_type": "code",
   "execution_count": null,
   "id": "2c987eb7",
   "metadata": {},
   "outputs": [],
   "source": []
  },
  {
   "cell_type": "code",
   "execution_count": null,
   "id": "311b166c",
   "metadata": {},
   "outputs": [],
   "source": []
  },
  {
   "attachments": {},
   "cell_type": "markdown",
   "id": "9815a5f8",
   "metadata": {},
   "source": [
    "Plot tree classifier for end of simulation (MCS = 50k)"
   ]
  },
  {
   "attachments": {},
   "cell_type": "markdown",
   "id": "715fb6d4",
   "metadata": {},
   "source": [
    "# 2. Sensitivity Analysis on final values"
   ]
  },
  {
   "attachments": {},
   "cell_type": "markdown",
   "id": "97c9f244",
   "metadata": {},
   "source": [
    "### 2a. SA on num_blob cells, GP fit, and SA from there"
   ]
  },
  {
   "cell_type": "code",
   "execution_count": null,
   "id": "83d92c03",
   "metadata": {},
   "outputs": [],
   "source": []
  },
  {
   "cell_type": "code",
   "execution_count": null,
   "id": "8b6eb168",
   "metadata": {},
   "outputs": [],
   "source": []
  },
  {
   "attachments": {},
   "cell_type": "markdown",
   "id": "29ad6e8c",
   "metadata": {},
   "source": [
    "### 2b. SA on weighted_blob_size cells, GP fit, and SA from there"
   ]
  },
  {
   "cell_type": "code",
   "execution_count": 23,
   "id": "dec1f1dc",
   "metadata": {},
   "outputs": [],
   "source": [
    "# Get an Emukit Model by fitting X,Y from Gaussian Process Regression\n",
    "\n",
    "ls = 1\n",
    "var = 1.0\n",
    "kernel1 = GPy.kern.RBF(input_dim = X.shape[1], lengthscale=ls, variance=var)\n",
    "\n",
    "noise_var = Y[:, 0].var()*0.01\n",
    "\n",
    "gpy_model = GPy.models.GPRegression(X, Y, kernel1, normalizer = True, noise_var=noise_var)\n",
    "emukit_model = GPyModelWrapper(gpy_model)"
   ]
  },
  {
   "cell_type": "code",
   "execution_count": 30,
   "id": "1515197f",
   "metadata": {},
   "outputs": [
    {
     "data": {
      "text/plain": [
       "<matplotlib.collections.PathCollection at 0x7fa67443a710>"
      ]
     },
     "execution_count": 30,
     "metadata": {},
     "output_type": "execute_result"
    },
    {
     "data": {
      "image/png": "[encoded data removed]",
      "text/plain": [
       "<Figure size 432x288 with 1 Axes>"
      ]
     },
     "metadata": {
      "needs_background": "light"
     },
     "output_type": "display_data"
    }
   ],
   "source": [
    "plt.scatter(X[:, 5], Y)"
   ]
  },
  {
   "cell_type": "markdown",
   "id": "d040bb6b",
   "metadata": {},
   "source": [
    "# SA for simulated data"
   ]
  },
  {
   "cell_type": "code",
   "execution_count": 35,
   "id": "89619ca8",
   "metadata": {},
   "outputs": [
    {
     "ename": "AttributeError",
     "evalue": "'numpy.ndarray' object has no attribute 'sample_uniform'",
     "output_type": "error",
     "traceback": [
      "\u001b[0;31m---------------------------------------------------------------------------\u001b[0m",
      "\u001b[0;31mAttributeError\u001b[0m                            Traceback (most recent call last)",
      "\u001b[0;32m<ipython-input-35-46af2301e5b4>\u001b[0m in \u001b[0;36m<module>\u001b[0;34m\u001b[0m\n\u001b[1;32m      5\u001b[0m \u001b[0mnum_monte_carlo_points\u001b[0m \u001b[0;34m=\u001b[0m \u001b[0;36m10000\u001b[0m  \u001b[0;31m# Number of MC samples\u001b[0m\u001b[0;34m\u001b[0m\u001b[0;34m\u001b[0m\u001b[0m\n\u001b[1;32m      6\u001b[0m \u001b[0msensitivity_cell_evol\u001b[0m \u001b[0;34m=\u001b[0m \u001b[0mModelFreeMonteCarloSensitivity\u001b[0m\u001b[0;34m(\u001b[0m\u001b[0mfunction_at_last_time\u001b[0m\u001b[0;34m(\u001b[0m\u001b[0mnum_blobs_cells\u001b[0m\u001b[0;34m)\u001b[0m\u001b[0;34m,\u001b[0m \u001b[0mX\u001b[0m\u001b[0;34m)\u001b[0m\u001b[0;34m\u001b[0m\u001b[0;34m\u001b[0m\u001b[0m\n\u001b[0;32m----> 7\u001b[0;31m \u001b[0mmain_effects\u001b[0m\u001b[0;34m,\u001b[0m \u001b[0mtotal_effects\u001b[0m\u001b[0;34m,\u001b[0m \u001b[0mtotal_variance\u001b[0m \u001b[0;34m=\u001b[0m \u001b[0msensitivity_cell_evol\u001b[0m\u001b[0;34m.\u001b[0m\u001b[0mcompute_effects\u001b[0m\u001b[0;34m(\u001b[0m\u001b[0mnum_monte_carlo_points\u001b[0m \u001b[0;34m=\u001b[0m \u001b[0mnum_monte_carlo_points\u001b[0m\u001b[0;34m)\u001b[0m\u001b[0;34m\u001b[0m\u001b[0;34m\u001b[0m\u001b[0m\n\u001b[0m\u001b[1;32m      8\u001b[0m \u001b[0mprint\u001b[0m\u001b[0;34m(\u001b[0m\u001b[0mmain_effects\u001b[0m\u001b[0;34m)\u001b[0m\u001b[0;34m\u001b[0m\u001b[0;34m\u001b[0m\u001b[0m\n",
      "\u001b[0;32m/opt/anaconda3/lib/python3.7/site-packages/emukit/sensitivity/monte_carlo/monte_carlo_sensitivity.py\u001b[0m in \u001b[0;36mcompute_effects\u001b[0;34m(self, main_sample, fixing_sample, num_monte_carlo_points)\u001b[0m\n\u001b[1;32m     87\u001b[0m         \u001b[0;32mif\u001b[0m \u001b[0mmain_sample\u001b[0m \u001b[0;32mis\u001b[0m \u001b[0;32mNone\u001b[0m \u001b[0;32mor\u001b[0m \u001b[0mfixing_sample\u001b[0m \u001b[0;32mis\u001b[0m \u001b[0;32mNone\u001b[0m\u001b[0;34m:\u001b[0m\u001b[0;34m\u001b[0m\u001b[0;34m\u001b[0m\u001b[0m\n\u001b[1;32m     88\u001b[0m             \u001b[0mself\u001b[0m\u001b[0;34m.\u001b[0m\u001b[0mnum_monte_carlo_points\u001b[0m \u001b[0;34m=\u001b[0m \u001b[0mnum_monte_carlo_points\u001b[0m\u001b[0;34m\u001b[0m\u001b[0;34m\u001b[0m\u001b[0m\n\u001b[0;32m---> 89\u001b[0;31m             \u001b[0mself\u001b[0m\u001b[0;34m.\u001b[0m\u001b[0m_generate_samples\u001b[0m\u001b[0;34m(\u001b[0m\u001b[0mself\u001b[0m\u001b[0;34m.\u001b[0m\u001b[0mnum_monte_carlo_points\u001b[0m\u001b[0;34m)\u001b[0m\u001b[0;34m\u001b[0m\u001b[0;34m\u001b[0m\u001b[0m\n\u001b[0m\u001b[1;32m     90\u001b[0m         \u001b[0;32melse\u001b[0m\u001b[0;34m:\u001b[0m\u001b[0;34m\u001b[0m\u001b[0;34m\u001b[0m\u001b[0m\n\u001b[1;32m     91\u001b[0m             \u001b[0mself\u001b[0m\u001b[0;34m.\u001b[0m\u001b[0mmain_sample\u001b[0m \u001b[0;34m=\u001b[0m \u001b[0mmain_sample\u001b[0m\u001b[0;34m\u001b[0m\u001b[0;34m\u001b[0m\u001b[0m\n",
      "\u001b[0;32m/opt/anaconda3/lib/python3.7/site-packages/emukit/sensitivity/monte_carlo/monte_carlo_sensitivity.py\u001b[0m in \u001b[0;36m_generate_samples\u001b[0;34m(self, num_monte_carlo_points)\u001b[0m\n\u001b[1;32m     33\u001b[0m         \u001b[0;34m:\u001b[0m\u001b[0mparam\u001b[0m \u001b[0mnum_monte_carlo_points\u001b[0m\u001b[0;34m:\u001b[0m \u001b[0mnumber\u001b[0m \u001b[0mof\u001b[0m \u001b[0msamples\u001b[0m \u001b[0mto\u001b[0m \u001b[0mgenerate\u001b[0m\u001b[0;34m\u001b[0m\u001b[0;34m\u001b[0m\u001b[0m\n\u001b[1;32m     34\u001b[0m         \"\"\"\n\u001b[0;32m---> 35\u001b[0;31m         \u001b[0mself\u001b[0m\u001b[0;34m.\u001b[0m\u001b[0mmain_sample\u001b[0m \u001b[0;34m=\u001b[0m \u001b[0mself\u001b[0m\u001b[0;34m.\u001b[0m\u001b[0minput_domain\u001b[0m\u001b[0;34m.\u001b[0m\u001b[0msample_uniform\u001b[0m\u001b[0;34m(\u001b[0m\u001b[0mnum_monte_carlo_points\u001b[0m\u001b[0;34m)\u001b[0m\u001b[0;34m\u001b[0m\u001b[0;34m\u001b[0m\u001b[0m\n\u001b[0m\u001b[1;32m     36\u001b[0m         \u001b[0mself\u001b[0m\u001b[0;34m.\u001b[0m\u001b[0mfixing_sample\u001b[0m \u001b[0;34m=\u001b[0m \u001b[0mself\u001b[0m\u001b[0;34m.\u001b[0m\u001b[0minput_domain\u001b[0m\u001b[0;34m.\u001b[0m\u001b[0msample_uniform\u001b[0m\u001b[0;34m(\u001b[0m\u001b[0mnum_monte_carlo_points\u001b[0m\u001b[0;34m)\u001b[0m\u001b[0;34m\u001b[0m\u001b[0;34m\u001b[0m\u001b[0m\n\u001b[1;32m     37\u001b[0m \u001b[0;34m\u001b[0m\u001b[0m\n",
      "\u001b[0;31mAttributeError\u001b[0m: 'numpy.ndarray' object has no attribute 'sample_uniform'"
     ]
    }
   ],
   "source": [
    "from emukit.sensitivity.monte_carlo import ModelFreeMonteCarloSensitivity\n",
    "\n",
    "np.random.seed(10)  # for reproducibility\n",
    "\n",
    "num_monte_carlo_points = 10000  # Number of MC samples\n",
    "sensitivity_cell_evol = ModelFreeMonteCarloSensitivity(function_at_last_time(num_blobs_cells), X)\n",
    "main_effects, total_effects, total_variance = sensitivity_cell_evol.compute_effects(num_monte_carlo_points = num_monte_carlo_points)\n",
    "print(main_effects)"
   ]
  },
  {
   "cell_type": "code",
   "execution_count": null,
   "id": "d29de454",
   "metadata": {},
   "outputs": [],
   "source": []
  },
  {
   "cell_type": "markdown",
   "id": "68503f81",
   "metadata": {},
   "source": [
    "# Defining and training an emulator for this data"
   ]
  },
  {
   "cell_type": "code",
   "execution_count": null,
   "id": "2edfc42d",
   "metadata": {},
   "outputs": [],
   "source": []
  },
  {
   "cell_type": "code",
   "execution_count": null,
   "id": "ee46579b",
   "metadata": {},
   "outputs": [],
   "source": []
  },
  {
   "cell_type": "markdown",
   "id": "e75dfe4d",
   "metadata": {},
   "source": [
    "# SA with samples from Emulator"
   ]
  },
  {
   "cell_type": "code",
   "execution_count": null,
   "id": "368b2408",
   "metadata": {},
   "outputs": [],
   "source": []
  }
 ],
 "metadata": {
  "kernelspec": {
   "display_name": "base",
   "language": "python",
   "name": "python3"
  },
  "language_info": {
   "codemirror_mode": {
    "name": "ipython",
    "version": 3
   },
   "file_extension": ".py",
   "mimetype": "text/x-python",
   "name": "python",
   "nbconvert_exporter": "python",
   "pygments_lexer": "ipython3",
   "version": "3.7.6"
  },
  "vscode": {
   "interpreter": {
    "hash": "40d3a090f54c6569ab1632332b64b2c03c39dcf918b08424e98f38b5ae0af88f"
   }
  }
 },
 "nbformat": 4,
 "nbformat_minor": 5
}
