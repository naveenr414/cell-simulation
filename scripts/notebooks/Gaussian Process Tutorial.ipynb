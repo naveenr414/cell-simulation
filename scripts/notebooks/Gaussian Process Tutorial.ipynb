{
 "cells": [
  {
   "cell_type": "code",
   "execution_count": 1,
   "metadata": {},
   "outputs": [],
   "source": [
    "%load_ext autoreload\n",
    "%autoreload 2"
   ]
  },
  {
   "cell_type": "code",
   "execution_count": 2,
   "metadata": {},
   "outputs": [],
   "source": [
    "import os\n",
    "os.chdir(\"../\")"
   ]
  },
  {
   "cell_type": "code",
   "execution_count": 74,
   "metadata": {},
   "outputs": [],
   "source": [
    "from data_processing.start_experiment import *\n",
    "from data_processing.read_data import *\n",
    "from data_processing.gaussian import *"
   ]
  },
  {
   "cell_type": "code",
   "execution_count": 4,
   "metadata": {},
   "outputs": [],
   "source": [
    "import matplotlib.pyplot as plt\n",
    "import numpy as np\n",
    "from emukit.core import ParameterSpace, ContinuousParameter, DiscreteParameter\n",
    "from emukit.core.initial_designs import RandomDesign\n",
    "from emukit.core.initial_designs.latin_design import LatinDesign\n",
    "from GPy.models import GPRegression\n",
    "from emukit.model_wrappers import GPyModelWrapper\n",
    "import GPy\n",
    "from emukit.sensitivity.monte_carlo import MonteCarloSensitivity\n",
    "import time"
   ]
  },
  {
   "cell_type": "markdown",
   "metadata": {},
   "source": [
    "# Reading and Running Simulations"
   ]
  },
  {
   "cell_type": "code",
   "execution_count": 5,
   "metadata": {},
   "outputs": [],
   "source": [
    "file_name = \"basic_chemotax.par\"\n",
    "output_file = \"data_cellcount_testing.txt\"\n",
    "\n",
    "mcs = 1000\n",
    "season_experiment = 1\n",
    "season_duration = 1000\n",
    "\n",
    "create_config(file_name, {'mcs': mcs,\n",
    "                          'season_experiment': season_experiment,\n",
    "                          'season_duration': season_duration, \n",
    "                         'keylock_list_filename': '../data/keylock/KL_l24_14_16_g6.dat',\n",
    "                         'evolsim': 1,\n",
    "                        'mut_rate': 0.0})"
   ]
  },
  {
   "cell_type": "code",
   "execution_count": 6,
   "metadata": {},
   "outputs": [
    {
     "name": "stderr",
     "output_type": "stream",
     "text": [
      "Opening ../data/parameters/basic_chemotax.par for reading\n",
      "[T  = 1.600000e+01]\n",
      "[target_area  = 50]\n",
      "[half_div_area  = 500]\n",
      "[half_div_area_2  = -1]\n",
      "[target_length  = 0]\n",
      "[lambda  = 5.000000e+00]\n",
      "[lambda2  = 0.000000e+00]\n",
      "[keylock_list_filename  = ../data/keylock/KL_l24_14_16_g6.dat]\n",
      "[conn_diss  = 0]\n",
      "[vecadherinknockout  = false]\n",
      "[extensiononly  = false]\n",
      "[chemotaxis  = 0]\n",
      "[border_energy  = 100]\n",
      "[neighbours  = 2]\n",
      "[min_area_for_life  = 4]\n",
      "[key_lock_length  = 24]\n",
      "[periodic_boundaries  = false]\n",
      "[n_chem  = 0]\n",
      "[n_init_cells  = 100]\n",
      "[size_init_cells  = 25]\n",
      "[sizex  = 500]\n",
      "[sizey  = 500]\n",
      "[divisions  = 0]\n",
      "[mcs  = 1000]\n",
      "[rseed  = -1]\n",
      "[subfield  = 1.000000e+00]\n",
      "[relaxation  = 0]\n",
      "[storage_stride  = 1000]\n",
      "[graphics  = false]\n",
      "[store  = true]\n",
      "[datadir  = data_film2]\n",
      "[datafile  = data_cellcount.txt]\n",
      "[save_text_file_period  = 1000]\n",
      "[food_influx_location  = specified_experiment]\n",
      "[initial_food_amount  = 0.000000e+00]\n",
      "[foodinflux  = 5.000000e-02]\n",
      "[eatprob  = 1.000000e+00]\n",
      "[ardecay  = 0.000000e+00]\n",
      "[growth  = 0.000000e+00]\n",
      "[gradnoise  = 9.000000e-01]\n",
      "[gradscale  = 1.000000e+00]\n",
      "[min_contact_duration_for_preying  = 2.500000e+01]\n",
      "[frac_contlen_eaten  = 1.000000e+00]\n",
      "[metabolic_conversion  = 5.000000e-01]\n",
      "[chancemediumcopied  = 1.000000e-04]\n",
      "[readcolortable  = false]\n",
      "[colortable_filename  = ../data/circular.ctb]\n",
      "[evolsim  = 1]\n",
      "[mut_rate  = 0.000000e+00]\n",
      "[persduration  = 50]\n",
      "[startmu  = 3.000000e+00]\n",
      "[init_chemmu  = 1.000000e+00]\n",
      "[Jmed_rule_input  = 8o4_3_2_1_1_1]\n",
      "[scaling_cell_to_ca_time  = 10]\n",
      "[backupdir  = backup]\n",
      "[save_backup_period  = 100000]\n",
      "[init_maintenance_fraction  = 1.000000e+00]\n",
      "[init_k_mf_0  = 1.000000e+00]\n",
      "[init_k_mf_A  = 0.000000e+00]\n",
      "[init_k_mf_P  = 0.000000e+00]\n",
      "[init_k_mf_C  = 0.000000e+00]\n",
      "[init_k_ext_0  = 1.000000e+00]\n",
      "[init_k_ext_A  = 0.000000e+00]\n",
      "[init_k_ext_P  = 0.000000e+00]\n",
      "[init_k_ext_C  = 0.000000e+00]\n",
      "[init_weight_for_chemotaxis  = 1.000000e+00]\n",
      "[init_k_chem_0  = 1.000000e+00]\n",
      "[init_k_chem_A  = 0.000000e+00]\n",
      "[init_k_chem_P  = 0.000000e+00]\n",
      "[init_k_chem_C  = 0.000000e+00]\n",
      "[howmany_makeit_for_nextgen  = 50]\n",
      "[popsize  = 100]\n",
      "[the_line  = 50]\n",
      "[is_there_food  = false]\n",
      "[evolreg  = false]\n",
      "[zero_persistence_past_theline  = false]\n",
      "[season_experiment  = true]\n",
      "[season_duration  = 1000]\n",
      "[init_k_ext_0t  = 0.000000e+00]\n",
      "[init_k_ext_Pt  = 0.000000e+00]\n",
      "[init_cell_config  = 0]\n",
      "\n",
      "Reading arguments from command line\n",
      "New value for datafile: data_cellcount_0.txt\n",
      "New value for backupdir: backup_0/\n",
      "New value for datadir: data_film_0/\n",
      "Offset : 8, Table: 4 3 2 1 1 1\n",
      "Length = 6\n",
      "Reading Key Lock list file\n",
      "Got maxtau = 1\n",
      "New key-lock pairs for tau = 1\n",
      "1 0 0 1 1 0 1 0 1 0 1 1 0 0 0 1 1 0 0 0 1 1 1 0 \n",
      "0 0 1 1 1 1 0 0 0 1 0 0 0 1 1 1 0 1 1 1 0 0 0 1 \n",
      "\n",
      "Warning, this version is ***NOT*** suitable for pde field!!!\n",
      "\n",
      "WARNING, use wrapped boundaries if cells are A LOT smaller than sizex and sizey\n",
      "\n",
      "\n",
      "WARNING: DO NOT EVOLVE CHEMMU, or if you do, change the replication function (where it is always reset to init_chemmu)\n",
      "\n",
      "Randomizing random generator, seed is Random seed is 58535\n",
      "Using X11 graphics (batch mode). sizex and y are 500 500\n",
      "Placed 100 cells out of 100 requested; avrg area = 25\n",
      "nr cells placed 100\n",
      "[ cells = 100]\n",
      "mean_area = 25\n",
      "ConstructInitCells is done\n",
      "InitVectorJ done\n",
      "Hello, got food influx location: specified_experiment\n",
      "init chemmu is1\n",
      "TIME: 0\n",
      "First call - inside Write(), making colors\n",
      "generate color table\n",
      "Time = 1000\n",
      "End of season: there are 100 cells\n",
      "After reproduction there are 150 cells\n",
      "After remove there are 100 cells\n"
     ]
    }
   ],
   "source": [
    "execute_experiment(file_name,0)"
   ]
  },
  {
   "cell_type": "code",
   "execution_count": 7,
   "metadata": {},
   "outputs": [],
   "source": [
    "all_cells = read_data(\"data_cellcount_testing.txt\")"
   ]
  },
  {
   "cell_type": "markdown",
   "metadata": {},
   "source": [
    "## Running simulations based on Latin Parameters"
   ]
  },
  {
   "cell_type": "code",
   "execution_count": 5,
   "metadata": {},
   "outputs": [],
   "source": [
    "parameter_list = ['season_duration', 'gamma', 'mut_rate', 'T', 'target_area', 'gradnoise']"
   ]
  },
  {
   "cell_type": "code",
   "execution_count": 6,
   "metadata": {},
   "outputs": [],
   "source": [
    "parameter_space = ParameterSpace([DiscreteParameter('season_duration',list(range(100,1001,10))), \n",
    "                                 DiscreteParameter('gamma',list(range(0,25))), \n",
    "                                 ContinuousParameter('mut_rate',0,0.5),\n",
    "                                 ContinuousParameter('T',1,100),\n",
    "                                 DiscreteParameter('target_area',list(range(1,101))),\n",
    "                                 ContinuousParameter('gradnoise',0.25,0.99)])"
   ]
  },
  {
   "cell_type": "code",
   "execution_count": 34,
   "metadata": {},
   "outputs": [],
   "source": [
    "mcs = 50*1000\n",
    "num_experiments = 100"
   ]
  },
  {
   "cell_type": "code",
   "execution_count": 35,
   "metadata": {},
   "outputs": [
    {
     "name": "stderr",
     "output_type": "stream",
     "text": [
      "Terminated\n",
      "Terminated\n",
      "Terminated\n",
      "Terminated\n",
      "Terminated\n",
      "Terminated\n",
      "Terminated\n",
      "Terminated\n",
      "Terminated\n",
      "Terminated\n",
      "Terminated\n",
      "Terminated\n",
      "Terminated\n",
      "Terminated\n",
      "Terminated\n",
      "Terminated\n",
      "Terminated\n",
      "Terminated\n",
      "Terminated\n",
      "Terminated\n",
      "Terminated\n",
      "Terminated\n",
      "Terminated\n",
      "Terminated\n",
      "Terminated\n",
      "Terminated\n",
      "Terminated\n",
      "Terminated\n",
      "Terminated\n",
      "Terminated\n",
      "Terminated\n",
      "Terminated\n",
      "Terminated\n",
      "Terminated\n",
      "Terminated\n",
      "Terminated\n",
      "Terminated\n",
      "Terminated\n",
      "Terminated\n",
      "Terminated\n",
      "Terminated\n",
      "Terminated\n",
      "Terminated\n",
      "Terminated\n",
      "Terminated\n",
      "Terminated\n",
      "Terminated\n",
      "Terminated\n",
      "Terminated\n",
      "Terminated\n",
      "Terminated\n",
      "Terminated\n",
      "Terminated\n",
      "Terminated\n",
      "Terminated\n",
      "Terminated\n",
      "Terminated\n",
      "Terminated\n",
      "Terminated\n",
      "Terminated\n",
      "Terminated\n",
      "Terminated\n",
      "Terminated\n",
      "Terminated\n",
      "Terminated\n",
      "Terminated\n",
      "Terminated\n",
      "Terminated\n",
      "Terminated\n",
      "Terminated\n",
      "Terminated\n",
      "Terminated\n",
      "Terminated\n",
      "Terminated\n",
      "Terminated\n",
      "Terminated\n",
      "Terminated\n",
      "Terminated\n",
      "Terminated\n",
      "Terminated\n",
      "Terminated\n",
      "Terminated\n",
      "Terminated\n",
      "Terminated\n",
      "Terminated\n",
      "Terminated\n",
      "Terminated\n",
      "Terminated\n",
      "Terminated\n",
      "Terminated\n",
      "Terminated\n",
      "Terminated\n",
      "Terminated\n",
      "Terminated\n",
      "Terminated\n",
      "Terminated\n",
      "Terminated\n",
      "Terminated\n",
      "Terminated\n"
     ]
    }
   ],
   "source": [
    "X = run_simulation_latin(parameter_space,num_experiments,0,{'mcs': mcs, 'storage_stride': 10*1000})"
   ]
  },
  {
   "cell_type": "markdown",
   "metadata": {},
   "source": [
    "# Using Emukit with Simulations"
   ]
  },
  {
   "cell_type": "markdown",
   "metadata": {},
   "source": [
    "## Create Emukit Model"
   ]
  },
  {
   "cell_type": "code",
   "execution_count": 89,
   "metadata": {},
   "outputs": [],
   "source": [
    "def average_blob_size(all_cells):\n",
    "    if len(all_cells) == 0:\n",
    "        return 0\n",
    "    \n",
    "    return len(all_cells)\n",
    "        \n",
    "    all_times = sorted(list(set([i.time for i in all_cells])))\n",
    "    weighted_size_over_time = [weighted_blobsize_cells(all_cells,i) for i in all_times]\n",
    "        \n",
    "    average_weighted_size = np.mean(weighted_size_over_time)\n",
    "    return average_weighted_size"
   ]
  },
  {
   "cell_type": "code",
   "execution_count": 72,
   "metadata": {},
   "outputs": [],
   "source": [
    "file_names = [\"latin/latin_{}.par\".format(i) for i in range(num_experiments)]\n",
    "data_files = [\"latin/data_cellcount_{}.txt\".format(i) for i in range(num_experiments)]"
   ]
  },
  {
   "cell_type": "code",
   "execution_count": 75,
   "metadata": {},
   "outputs": [],
   "source": [
    "X = get_parameter_array(file_names,parameter_list)\n",
    "\n",
    "# Some files have no data; don't get those\n",
    "unrun_files = get_no_data(data_files) \n",
    "X_no_data = X[unrun_files,:]\n",
    "\n",
    "X = np.delete(X,unrun_files,axis=0)"
   ]
  },
  {
   "cell_type": "code",
   "execution_count": 90,
   "metadata": {},
   "outputs": [],
   "source": [
    "Y = get_rewards(data_files,average_blob_size)"
   ]
  },
  {
   "cell_type": "code",
   "execution_count": 91,
   "metadata": {},
   "outputs": [
    {
     "data": {
      "text/plain": [
       "((87, 6), (87, 1))"
      ]
     },
     "execution_count": 91,
     "metadata": {},
     "output_type": "execute_result"
    }
   ],
   "source": [
    "X.shape, Y.shape"
   ]
  },
  {
   "cell_type": "code",
   "execution_count": 92,
   "metadata": {},
   "outputs": [],
   "source": [
    "gamma = X[:,1].reshape(len(X),1)"
   ]
  },
  {
   "cell_type": "code",
   "execution_count": 95,
   "metadata": {},
   "outputs": [],
   "source": [
    "emukit_model = get_emukit_model(X,Y,lengthscale=10,variance=10,noise_var=10)"
   ]
  },
  {
   "cell_type": "markdown",
   "metadata": {},
   "source": [
    "## Plot Gaussian Process Model"
   ]
  },
  {
   "cell_type": "code",
   "execution_count": 96,
   "metadata": {},
   "outputs": [
    {
     "data": {
      "image/png": "[encoded data removed]",
      "text/plain": [
       "<Figure size 864x576 with 1 Axes>"
      ]
     },
     "metadata": {
      "needs_background": "light"
     },
     "output_type": "display_data"
    }
   ],
   "source": [
    "plot_gaussian_process(np.linspace(0,25,100),emukit_model)"
   ]
  },
  {
   "cell_type": "markdown",
   "metadata": {},
   "source": [
    "## Perform Sensitivity Analysis"
   ]
  },
  {
   "cell_type": "code",
   "execution_count": 97,
   "metadata": {},
   "outputs": [
    {
     "data": {
      "text/plain": [
       "({'season_duration': array([1.00010097]),\n",
       "  'gamma': array([0.01166655]),\n",
       "  'mut_rate': array([0.01166655]),\n",
       "  'T': array([0.01166655]),\n",
       "  'target_area': array([0.01166655]),\n",
       "  'gradnoise': array([0.01166655])},\n",
       " {'season_duration': array([0.98833345]),\n",
       "  'gamma': array([-0.08512816]),\n",
       "  'mut_rate': array([-0.08512816]),\n",
       "  'T': array([-0.08512816]),\n",
       "  'target_area': array([-0.08512816]),\n",
       "  'gradnoise': array([-0.08512816])})"
      ]
     },
     "execution_count": 97,
     "metadata": {},
     "output_type": "execute_result"
    }
   ],
   "source": [
    "get_sobol_indices(emukit_model,parameter_space)"
   ]
  },
  {
   "cell_type": "code",
   "execution_count": null,
   "metadata": {},
   "outputs": [],
   "source": []
  }
 ],
 "metadata": {
  "kernelspec": {
   "display_name": "Python 3 (ipykernel)",
   "language": "python",
   "name": "python3"
  },
  "language_info": {
   "codemirror_mode": {
    "name": "ipython",
    "version": 3
   },
   "file_extension": ".py",
   "mimetype": "text/x-python",
   "name": "python",
   "nbconvert_exporter": "python",
   "pygments_lexer": "ipython3",
   "version": "3.8.10"
  },
  "vscode": {
   "interpreter": {
    "hash": "ac553b53807d6059205a783708d1e08f61d049a184a5375569a266b0ccfc06c6"
   }
  }
 },
 "nbformat": 4,
 "nbformat_minor": 4
}
