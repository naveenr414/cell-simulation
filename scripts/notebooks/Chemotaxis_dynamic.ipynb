{
 "cells": [
  {
   "cell_type": "code",
   "execution_count": 1,
   "metadata": {},
   "outputs": [],
   "source": [
    "%load_ext autoreload\n",
    "%autoreload 2"
   ]
  },
  {
   "cell_type": "code",
   "execution_count": 2,
   "metadata": {},
   "outputs": [],
   "source": [
    "import os\n",
    "os.chdir(\"../\")"
   ]
  },
  {
   "cell_type": "code",
   "execution_count": 3,
   "metadata": {},
   "outputs": [],
   "source": [
    "from data_processing.start_experiment import *\n",
    "from data_processing.read_data import *\n",
    "from data_processing.gaussian import *"
   ]
  },
  {
   "cell_type": "code",
   "execution_count": 4,
   "metadata": {},
   "outputs": [],
   "source": [
    "num_experiments = 100\n",
    "parameter_list = ['gamma', 'gradnoise']"
   ]
  },
  {
   "cell_type": "code",
   "execution_count": 5,
   "metadata": {},
   "outputs": [],
   "source": [
    "file_names = [\"gradient_latin/latin_{}.par\".format(i) for i in range(num_experiments)]\n",
    "data_files = [\"gradient_latin/data_cellcount_{}.txt\".format(i) for i in range(num_experiments)]"
   ]
  },
  {
   "cell_type": "code",
   "execution_count": 6,
   "metadata": {},
   "outputs": [],
   "source": [
    "X = get_parameter_array(file_names,parameter_list)"
   ]
  },
  {
   "cell_type": "code",
   "execution_count": 7,
   "metadata": {},
   "outputs": [
    {
     "name": "stdout",
     "output_type": "stream",
     "text": [
      "[20.      0.6015]\n"
     ]
    }
   ],
   "source": [
    "print(X[0])"
   ]
  },
  {
   "cell_type": "code",
   "execution_count": 8,
   "metadata": {},
   "outputs": [
    {
     "name": "stdout",
     "output_type": "stream",
     "text": [
      "[247.76864588 246.68638358 244.40435479 243.57152699 244.57849078\n",
      " 243.85263311 243.45312342 240.5125975  238.34505873 236.90582546\n",
      " 232.78352551 229.48591675 226.75246363 227.12951095 228.28638326\n",
      " 229.58473155 229.91019362 227.74453888 224.27773398 223.89449088\n",
      " 222.99556753 220.59621473 216.89718401 215.22148163 215.54175375\n",
      " 216.39969598 216.42531291 214.05196614 216.63486634 215.31503037\n",
      " 214.86931278 212.91184627 211.61141771 211.45267076 211.56421506\n",
      " 212.70504248 214.48815545 212.19939735 206.93221251 205.16401804\n",
      " 204.09421297 203.37175625 201.93624177 200.43398251 203.51799526\n",
      " 201.63548281 202.0727117  199.86032614 197.45160983 198.11814208\n",
      " 200.0157936 ]\n"
     ]
    }
   ],
   "source": [
    "# ts_dist_Y = get_timestep_rewards(data_files[97], function_at_each_timestep(average_angle_diff_to_peak))\n",
    "\n",
    "# ts_d_peak = get_timestep_rewards(data_files[97], function_at_each_timestep(distance_to_peak_gradient))\n",
    "\n",
    "# ts_d_migration = get_timestep_rewards(data_files[97], function_at_each_timestep(average_angle_migration_to_peak))\n",
    "\n",
    "# # print(ts_dist_Y)\n",
    "# # print(ts_d_migration)\n",
    "# # print(ts_d_peak)\n",
    "print(get_timestep_rewards(data_files[0], function_at_each_timestep(distance_to_peak_gradient)))\n"
   ]
  },
  {
   "cell_type": "code",
   "execution_count": 9,
   "metadata": {},
   "outputs": [],
   "source": [
    "# split data files for test \n",
    "train_data = data_files[:90]\n",
    "test_data = data_files[90:-1]"
   ]
  },
  {
   "cell_type": "code",
   "execution_count": 10,
   "metadata": {},
   "outputs": [
    {
     "name": "stdout",
     "output_type": "stream",
     "text": [
      "gradient_latin/data_cellcount_90.txt\n",
      "gradient_latin/data_cellcount_89.txt\n"
     ]
    }
   ],
   "source": [
    "print(test_data[0])\n",
    "print(train_data[-1])"
   ]
  },
  {
   "cell_type": "code",
   "execution_count": 11,
   "metadata": {},
   "outputs": [],
   "source": [
    "# param space\n",
    "# use input params grad noise and gamma (constant across single seasons)\n",
    "# use angle difference\n",
    "# use migration difference\n",
    "# use stepwise speed (TODO)\n",
    "# use distance difference \n",
    "# distance between cells"
   ]
  },
  {
   "cell_type": "code",
   "execution_count": 12,
   "metadata": {},
   "outputs": [],
   "source": [
    "# print(X)"
   ]
  },
  {
   "cell_type": "code",
   "execution_count": 13,
   "metadata": {},
   "outputs": [],
   "source": [
    "# Emulate distance first\n",
    "simulation_samples_X = np.empty(shape=[0, 6])\n",
    "simulation_samples_Y = np.empty(shape=[0, 1])\n",
    "for i in range(len(train_data)):\n",
    "    \n",
    "    # x_params = get_parameter_array(train_data[i], parameter_list)\n",
    "    \n",
    "    migration_angle_dif = np.array(get_timestep_rewards(data_files[i], function_at_each_timestep(average_angle_migration_to_peak)))\n",
    "    chemo_angle_dif = np.array(get_timestep_rewards(data_files[i], function_at_each_timestep(average_angle_diff_to_peak)))\n",
    "    distance_dif = np.array(get_timestep_rewards(data_files[i], function_at_each_timestep(distance_to_peak_gradient)))\n",
    "    dist_cells = np.array(get_timestep_rewards(data_files[i], function_at_each_timestep(average_distance_between_cells)))\n",
    "\n",
    "    # indeces\n",
    "    index = np.linspace(0, len(distance_dif)-2,int(len(distance_dif)/2), dtype=int)\n",
    "    reward_index = index + 1\n",
    "\n",
    "\n",
    "    migration_x = migration_angle_dif[index]\n",
    "    chemo_angle_x = chemo_angle_dif[index]\n",
    "    distance_x = distance_dif[index]\n",
    "    dist_cells_x = dist_cells[index]\n",
    "\n",
    "\n",
    "    distance_y = distance_dif[reward_index]\n",
    "\n",
    "    for j in range(len(index)):\n",
    "        sim_X = [migration_x[j], chemo_angle_x[j], distance_x[j], dist_cells_x[j], X[i][0], X[i][1]]\n",
    "        simulation_samples_X = np.vstack([simulation_samples_X, sim_X]) \n",
    "        sim_Y = [distance_y[j]]\n",
    "        simulation_samples_Y = np.vstack([simulation_samples_Y, sim_Y])\n",
    "\n",
    "    "
   ]
  },
  {
   "cell_type": "code",
   "execution_count": 14,
   "metadata": {},
   "outputs": [],
   "source": [
    "# print(simulation_samples_Y)\n",
    "# print(simulation_samples_X)"
   ]
  },
  {
   "cell_type": "code",
   "execution_count": 15,
   "metadata": {},
   "outputs": [
    {
     "name": "stdout",
     "output_type": "stream",
     "text": [
      "(2143, 6)\n",
      "(2143, 1)\n"
     ]
    }
   ],
   "source": [
    "print(simulation_samples_X.shape)\n",
    "print(simulation_samples_Y.shape)\n",
    "\n",
    "# simulation_samples_Y /= np.std(simulation_samples_Y, axis=0)\n",
    "# print(simulation_samples_Y)"
   ]
  },
  {
   "cell_type": "code",
   "execution_count": 29,
   "metadata": {},
   "outputs": [],
   "source": [
    "from GPy.models import GPRegression\n",
    "\n",
    "kernel_mattern = GPy.kern.Matern52(6, variance = 1., ARD=True)\n",
    "sim_y_noise = simulation_samples_Y.var()*0.01\n",
    "\n"
   ]
  },
  {
   "cell_type": "code",
   "execution_count": 33,
   "metadata": {},
   "outputs": [],
   "source": [
    "distance_model = GPRegression(simulation_samples_X, simulation_samples_Y, kernel = kernel_mattern.copy(), noise_var=sim_y_noise) \n",
    "# distance_model.Gaussian_noise.constrain_fixed(50, warning=False)"
   ]
  },
  {
   "cell_type": "code",
   "execution_count": 18,
   "metadata": {},
   "outputs": [],
   "source": [
    "# # takes a long time\n",
    "# distance_model.optimize()"
   ]
  },
  {
   "cell_type": "code",
   "execution_count": 34,
   "metadata": {},
   "outputs": [],
   "source": [
    "def get_file_test_data(idx):\n",
    "\n",
    "    test_X = np.empty(shape=[0, 6])\n",
    "    test_Y = np.empty(shape=[0, 1])\n",
    "\n",
    "    migration_angle_dif = np.array(get_timestep_rewards(data_files[idx+90], function_at_each_timestep(average_angle_migration_to_peak)))\n",
    "    chemo_angle_dif = np.array(get_timestep_rewards(data_files[idx+90], function_at_each_timestep(average_angle_diff_to_peak)))\n",
    "    distance_dif = np.array(get_timestep_rewards(data_files[idx+90], function_at_each_timestep(distance_to_peak_gradient)))\n",
    "    dist_cells = np.array(get_timestep_rewards(data_files[idx+90], function_at_each_timestep(average_distance_between_cells)))\n",
    "\n",
    "    # indeces\n",
    "    index = np.linspace(0, len(distance_dif)-2,int(len(distance_dif)), dtype=int)\n",
    "    # reward_index = index + 1\n",
    "    reward_index = index +1 \n",
    "\n",
    "    migration_x = migration_angle_dif[index]\n",
    "    chemo_angle_x = chemo_angle_dif[index]\n",
    "    distance_x = distance_dif[index]\n",
    "    dist_cells_x = dist_cells[index]\n",
    "\n",
    "\n",
    "    distance_y = distance_dif[reward_index]\n",
    "\n",
    "    for j in range(len(index)):\n",
    "        sim_X = [migration_x[j], chemo_angle_x[j], distance_x[j], dist_cells_x[j], X[idx+90][0], X[idx+90][1]]\n",
    "        test_X = np.vstack([test_X, sim_X]) \n",
    "        sim_Y = [distance_y[j]]\n",
    "        test_Y = np.vstack([test_Y, sim_Y])\n",
    "\n",
    "    return test_X, test_Y\n"
   ]
  },
  {
   "cell_type": "code",
   "execution_count": 38,
   "metadata": {},
   "outputs": [],
   "source": [
    "\n",
    "test_X, test_Y = get_file_test_data(7)\n",
    "mean_, var_ = distance_model.predict(test_X)\n"
   ]
  },
  {
   "cell_type": "code",
   "execution_count": 39,
   "metadata": {},
   "outputs": [
    {
     "data": {
      "text/plain": [
       "[<matplotlib.lines.Line2D at 0x27914d495e0>]"
      ]
     },
     "execution_count": 39,
     "metadata": {},
     "output_type": "execute_result"
    },
    {
     "data": {
      "image/png": "[encoded data removed]",
      "text/plain": [
       "<Figure size 640x480 with 1 Axes>"
      ]
     },
     "metadata": {},
     "output_type": "display_data"
    }
   ],
   "source": [
    "import matplotlib.pyplot as plt\n",
    "plt.plot(mean_)\n",
    "plt.plot(test_Y)\n",
    "plt.plot(var_)"
   ]
  },
  {
   "cell_type": "code",
   "execution_count": null,
   "metadata": {},
   "outputs": [],
   "source": []
  }
 ],
 "metadata": {
  "kernelspec": {
   "display_name": "sim_env",
   "language": "python",
   "name": "python3"
  },
  "language_info": {
   "codemirror_mode": {
    "name": "ipython",
    "version": 3
   },
   "file_extension": ".py",
   "mimetype": "text/x-python",
   "name": "python",
   "nbconvert_exporter": "python",
   "pygments_lexer": "ipython3",
   "version": "3.9.13 (tags/v3.9.13:6de2ca5, May 17 2022, 16:36:42) [MSC v.1929 64 bit (AMD64)]"
  },
  "orig_nbformat": 4,
  "vscode": {
   "interpreter": {
    "hash": "4aa652550647b969ee017fbe596928b6ffc84d6ce7ad55201fdcdba3f5c34bb0"
   }
  }
 },
 "nbformat": 4,
 "nbformat_minor": 2
}
