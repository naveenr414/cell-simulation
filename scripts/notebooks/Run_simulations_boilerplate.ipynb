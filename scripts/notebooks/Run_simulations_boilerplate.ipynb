{
 "cells": [
  {
   "cell_type": "code",
   "execution_count": 1,
   "id": "6f06f249",
   "metadata": {},
   "outputs": [],
   "source": [
    "%load_ext autoreload\n",
    "%autoreload 2"
   ]
  },
  {
   "cell_type": "code",
   "execution_count": 2,
   "id": "7bc6dc39",
   "metadata": {},
   "outputs": [],
   "source": [
    "import os\n",
    "os.chdir(\"../\")"
   ]
  },
  {
   "cell_type": "code",
   "execution_count": 3,
   "id": "f45a6130",
   "metadata": {},
   "outputs": [],
   "source": [
    "from data_processing.start_experiment import *\n",
    "from data_processing.read_data import *\n",
    "from data_processing.gaussian import *"
   ]
  },
  {
   "cell_type": "code",
   "execution_count": 4,
   "id": "117cb2ba",
   "metadata": {},
   "outputs": [],
   "source": [
    "import matplotlib.pyplot as plt\n",
    "import numpy as np\n",
    "from emukit.core import ParameterSpace, ContinuousParameter, DiscreteParameter\n",
    "from emukit.core.initial_designs import RandomDesign\n",
    "from emukit.core.initial_designs.latin_design import LatinDesign\n",
    "from GPy.models import GPRegression\n",
    "from emukit.model_wrappers import GPyModelWrapper\n",
    "import GPy\n",
    "from emukit.sensitivity.monte_carlo import MonteCarloSensitivity\n",
    "import time"
   ]
  },
  {
   "cell_type": "code",
   "execution_count": 5,
   "id": "bd94784c",
   "metadata": {},
   "outputs": [],
   "source": [
    "parameter_list = ['evolsim', 'gamma', 'gradnoise']"
   ]
  },
  {
   "cell_type": "code",
   "execution_count": 6,
   "id": "66b0e4c7",
   "metadata": {},
   "outputs": [],
   "source": [
    "parameter_space = ParameterSpace([DiscreteParameter('evolsim', list(range(0,1))),\n",
    "                                DiscreteParameter('gamma',list(range(0,25))),\n",
    "                                ContinuousParameter('gradnoise',0.25,0.99)])"
   ]
  },
  {
   "cell_type": "code",
   "execution_count": 7,
   "id": "fa9a0919",
   "metadata": {},
   "outputs": [],
   "source": [
    "mcs = 50*1000\n",
    "num_experiments = 100\n",
    "\n",
    "X = run_simulation_latin(parameter_space, num_experiments, 0, {'mcs': mcs, 'storage_stride': 10*1000})"
   ]
  }
 ],
 "metadata": {
  "kernelspec": {
   "display_name": "sim_env",
   "language": "python",
   "name": "python3"
  },
  "language_info": {
   "codemirror_mode": {
    "name": "ipython",
    "version": 3
   },
   "file_extension": ".py",
   "mimetype": "text/x-python",
   "name": "python",
   "nbconvert_exporter": "python",
   "pygments_lexer": "ipython3",
   "version": "3.9.13 (tags/v3.9.13:6de2ca5, May 17 2022, 16:36:42) [MSC v.1929 64 bit (AMD64)]"
  },
  "vscode": {
   "interpreter": {
    "hash": "4aa652550647b969ee017fbe596928b6ffc84d6ce7ad55201fdcdba3f5c34bb0"
   }
  }
 },
 "nbformat": 4,
 "nbformat_minor": 5
}
