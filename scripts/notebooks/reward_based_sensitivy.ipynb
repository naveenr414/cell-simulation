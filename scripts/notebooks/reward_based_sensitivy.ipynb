{
 "cells": [
  {
   "cell_type": "code",
   "execution_count": 7,
   "metadata": {},
   "outputs": [
    {
     "name": "stdout",
     "output_type": "stream",
     "text": [
      "The autoreload extension is already loaded. To reload it, use:\n",
      "  %reload_ext autoreload\n"
     ]
    }
   ],
   "source": [
    "%load_ext autoreload\n",
    "%autoreload 2"
   ]
  },
  {
   "cell_type": "code",
   "execution_count": 8,
   "metadata": {},
   "outputs": [],
   "source": [
    "from data_processing.start_experiment import *\n",
    "from data_processing.read_data import *\n",
    "from data_processing.gaussian import *\n",
    "import numpy as np"
   ]
  },
  {
   "cell_type": "code",
   "execution_count": 9,
   "metadata": {},
   "outputs": [],
   "source": [
    "parameter_list = ['season_duration', 'gamma', 'mut_rate', 'T', 'target_area', 'gradnoise']"
   ]
  },
  {
   "cell_type": "code",
   "execution_count": 10,
   "metadata": {},
   "outputs": [],
   "source": [
    "parameter_space = ParameterSpace([DiscreteParameter('season_duration',list(range(100,1001,10))), \n",
    "                                 DiscreteParameter('gamma',list(range(0,25))), \n",
    "                                 ContinuousParameter('mut_rate',0,0.5),\n",
    "                                 ContinuousParameter('T',1,100),\n",
    "                                 DiscreteParameter('target_area',list(range(1,101))),\n",
    "                                 ContinuousParameter('gradnoise',0.25,0.99)])"
   ]
  },
  {
   "cell_type": "code",
   "execution_count": 11,
   "metadata": {},
   "outputs": [],
   "source": [
    "num_experiments = 100"
   ]
  },
  {
   "cell_type": "code",
   "execution_count": 12,
   "metadata": {},
   "outputs": [],
   "source": [
    "file_names = [\"latin/latin_{}.par\".format(i) for i in range(num_experiments)]\n",
    "data_files = [\"latin/data_cellcount_{}.txt\".format(i) for i in range(num_experiments)]"
   ]
  },
  {
   "cell_type": "code",
   "execution_count": 13,
   "metadata": {},
   "outputs": [],
   "source": [
    "X = get_parameter_array(file_names,parameter_list)\n",
    "\n",
    "# Some files have no data; don't get those\n",
    "unrun_files = get_no_data(data_files) \n",
    "X_no_data = X[unrun_files,:]\n",
    "\n",
    "X = np.delete(X,unrun_files,axis=0)"
   ]
  },
  {
   "cell_type": "code",
   "execution_count": 14,
   "metadata": {},
   "outputs": [
    {
     "data": {
      "text/plain": [
       "(87, 6)"
      ]
     },
     "execution_count": 14,
     "metadata": {},
     "output_type": "execute_result"
    }
   ],
   "source": [
    "X.shape"
   ]
  },
  {
   "cell_type": "code",
   "execution_count": 15,
   "metadata": {},
   "outputs": [],
   "source": [
    "Y = get_rewards(data_files,average_function_over_time(average_distance_between_cells))"
   ]
  },
  {
   "cell_type": "code",
   "execution_count": 16,
   "metadata": {},
   "outputs": [],
   "source": [
    "from GPy.models import GPRegression\n",
    "from emukit.model_wrappers import GPyModelWrapper\n",
    "from emukit.sensitivity.monte_carlo import MonteCarloSensitivity\n",
    "\n",
    "model_gpy = GPRegression(X,Y)\n",
    "model_emukit = GPyModelWrapper(model_gpy)\n",
    "model_emukit.optimize()"
   ]
  },
  {
   "cell_type": "code",
   "execution_count": 23,
   "metadata": {},
   "outputs": [
    {
     "name": "stdout",
     "output_type": "stream",
     "text": [
      "[[5.6000e+02 1.8000e+01 4.7500e-02 8.4655e+01 1.5000e+01 4.6090e-01]\n",
      " [3.8000e+02 4.0000e+00 1.1250e-01 3.6145e+01 3.4000e+01 8.4570e-01]\n",
      " [2.6000e+02 1.2000e+01 3.2750e-01 9.0595e+01 8.1000e+01 5.4970e-01]\n",
      " [1.2000e+02 1.0000e+00 4.7250e-01 3.5155e+01 2.4000e+01 8.5310e-01]\n",
      " [7.7000e+02 7.0000e+00 3.7500e-02 8.0695e+01 6.4000e+01 7.6430e-01]\n",
      " [1.7000e+02 6.0000e+00 1.7750e-01 4.6045e+01 9.9000e+01 4.4610e-01]\n",
      " [9.3000e+02 1.1000e+01 4.2500e-02 5.9905e+01 5.8000e+01 9.4190e-01]\n",
      " [3.2000e+02 1.3000e+01 1.8250e-01 1.4950e+00 5.2000e+01 5.7930e-01]\n",
      " [5.4000e+02 2.0000e+00 3.5250e-01 9.2575e+01 8.8000e+01 6.5330e-01]\n",
      " [1.9000e+02 1.3000e+01 4.3250e-01 3.2185e+01 5.7000e+01 6.7550e-01]\n",
      " [7.3000e+02 2.1000e+01 2.0750e-01 7.7725e+01 3.7000e+01 5.6450e-01]\n",
      " [7.3000e+02 1.3000e+01 3.6250e-01 1.1395e+01 2.9000e+01 8.2350e-01]\n",
      " [4.6000e+02 2.2000e+01 4.5750e-01 4.5055e+01 2.8000e+01 5.4230e-01]\n",
      " [3.0000e+02 1.7000e+01 3.5750e-01 8.4250e+00 4.7000e+01 6.3110e-01]\n",
      " [8.4000e+02 1.2000e+01 2.5000e-03 7.1785e+01 8.0000e+01 3.0550e-01]\n",
      " [3.9000e+02 1.4000e+01 4.5250e-01 8.2675e+01 7.1000e+01 8.6790e-01]\n",
      " [6.7000e+02 7.0000e+00 7.2500e-02 4.0105e+01 8.6000e+01 4.8310e-01]\n",
      " [8.8000e+02 8.0000e+00 3.8750e-01 5.7925e+01 9.3000e+01 7.4950e-01]\n",
      " [4.1000e+02 2.1000e+01 1.1750e-01 8.6635e+01 3.0000e+00 7.7910e-01]\n",
      " [1.4000e+02 2.3000e+01 2.1250e-01 6.4855e+01 1.0000e+00 3.2030e-01]\n",
      " [8.5000e+02 1.7000e+01 1.9250e-01 6.2875e+01 5.5000e+01 2.7590e-01]\n",
      " [4.4000e+02 1.4000e+01 2.3750e-01 1.6345e+01 8.4000e+01 5.9410e-01]\n",
      " [7.1000e+02 1.5000e+01 2.9250e-01 2.0305e+01 7.5000e+01 7.4210e-01]\n",
      " [7.2000e+02 3.0000e+00 3.2500e-02 1.7335e+01 6.6000e+01 3.6470e-01]\n",
      " [1.1000e+02 2.1000e+01 4.6750e-01 7.5745e+01 3.5000e+01 9.7890e-01]\n",
      " [1.0000e+03 0.0000e+00 5.2500e-02 5.4955e+01 7.9000e+01 6.6810e-01]\n",
      " [4.5000e+02 1.0000e+00 3.9750e-01 4.3075e+01 4.4000e+01 3.7210e-01]\n",
      " [6.9000e+02 9.0000e+00 4.9250e-01 3.8125e+01 8.2000e+01 9.7150e-01]\n",
      " [1.0000e+02 2.0000e+01 3.7750e-01 3.7135e+01 9.5000e+01 7.0510e-01]\n",
      " [7.8000e+02 1.9000e+01 3.8250e-01 9.1585e+01 9.2000e+01 9.1970e-01]\n",
      " [9.6000e+02 2.0000e+01 4.4750e-01 5.4550e+00 8.0000e+00 2.6850e-01]\n",
      " [4.7000e+02 2.0000e+00 2.1750e-01 7.2775e+01 6.1000e+01 4.5350e-01]\n",
      " [8.0000e+02 2.3000e+01 1.7250e-01 5.2975e+01 6.7000e+01 4.6830e-01]\n",
      " [9.1000e+02 1.5000e+01 7.7500e-02 9.7525e+01 6.8000e+01 3.3510e-01]\n",
      " [2.2000e+02 3.0000e+00 1.2500e-02 4.4065e+01 9.4000e+01 6.6070e-01]\n",
      " [9.5000e+02 1.1000e+01 4.9750e-01 4.7035e+01 7.2000e+01 4.3130e-01]\n",
      " [2.8000e+02 1.1000e+01 2.5750e-01 5.5945e+01 4.0000e+00 2.9070e-01]\n",
      " [6.8000e+02 1.0000e+01 2.4250e-01 6.6835e+01 2.5000e+01 7.8650e-01]\n",
      " [5.7000e+02 2.1000e+01 1.7500e-02 8.3665e+01 6.3000e+01 4.2390e-01]\n",
      " [9.7000e+02 1.3000e+01 1.0250e-01 2.3275e+01 3.9000e+01 9.8630e-01]\n",
      " [2.3000e+02 1.6000e+01 4.6250e-01 7.3765e+01 7.7000e+01 4.9050e-01]\n",
      " [5.2000e+02 1.9000e+01 4.1250e-01 2.6245e+01 6.2000e+01 2.5370e-01]\n",
      " [2.0000e+02 1.9000e+01 4.8250e-01 7.4350e+00 9.7000e+01 4.0910e-01]\n",
      " [6.4000e+02 9.0000e+00 1.3750e-01 8.1685e+01 6.9000e+01 9.1230e-01]\n",
      " [8.7000e+02 2.1000e+01 6.7500e-02 8.5645e+01 3.0000e+01 4.7570e-01]\n",
      " [3.6000e+02 1.4000e+01 5.7500e-02 1.5355e+01 4.0000e+01 5.5710e-01]\n",
      " [6.3000e+02 6.0000e+00 1.4250e-01 5.8915e+01 2.7000e+01 7.1990e-01]\n",
      " [5.9000e+02 3.0000e+00 1.9750e-01 5.0995e+01 5.0000e+00 2.8330e-01]\n",
      " [6.5000e+02 9.0000e+00 4.0250e-01 9.6535e+01 3.6000e+01 9.4930e-01]\n",
      " [4.6000e+02 1.7000e+01 2.5250e-01 6.8815e+01 4.6000e+01 4.9790e-01]\n",
      " [3.7000e+02 4.0000e+00 9.2500e-02 5.0005e+01 5.4000e+01 2.6110e-01]\n",
      " [5.0000e+02 2.0000e+01 4.3750e-01 3.1195e+01 5.1000e+01 3.4250e-01]\n",
      " [1.9000e+02 8.0000e+00 1.6250e-01 2.4265e+01 5.6000e+01 3.9430e-01]\n",
      " [8.3000e+02 7.0000e+00 1.0750e-01 6.4450e+00 7.3000e+01 6.1630e-01]\n",
      " [5.8000e+02 2.3000e+01 7.5000e-03 2.7235e+01 6.0000e+01 3.7950e-01]\n",
      " [7.6000e+02 4.0000e+00 2.6250e-01 4.9015e+01 9.6000e+01 7.2730e-01]\n",
      " [8.1000e+02 2.2000e+01 3.2250e-01 8.7625e+01 4.2000e+01 5.7190e-01]\n",
      " [9.9000e+02 2.3000e+01 1.2750e-01 3.9115e+01 9.0000e+01 9.0490e-01]\n",
      " [2.7000e+02 7.0000e+00 4.1750e-01 8.9605e+01 5.0000e+01 4.0170e-01]\n",
      " [2.1000e+02 3.0000e+00 3.4750e-01 7.0795e+01 9.1000e+01 8.3090e-01]\n",
      " [6.6000e+02 2.2000e+01 3.3750e-01 2.4850e+00 7.8000e+01 8.3830e-01]\n",
      " [4.3000e+02 2.0000e+01 2.8750e-01 6.5845e+01 9.0000e+00 9.6410e-01]\n",
      " [2.8000e+02 1.7000e+01 2.7250e-01 1.2385e+01 4.9000e+01 8.0130e-01]\n",
      " [3.4000e+02 1.8000e+01 2.9750e-01 3.4165e+01 3.2000e+01 6.8290e-01]\n",
      " [5.5000e+02 1.6000e+01 1.8750e-01 5.3965e+01 8.9000e+01 7.3470e-01]\n",
      " [7.9000e+02 1.8000e+01 1.6750e-01 8.8615e+01 5.9000e+01 4.3870e-01]\n",
      " [4.9000e+02 5.0000e+00 6.2500e-02 9.8515e+01 7.0000e+01 7.7170e-01]\n",
      " [4.2000e+02 2.4000e+01 2.4750e-01 2.8225e+01 4.3000e+01 8.9010e-01]\n",
      " [3.7000e+02 3.0000e+00 2.2250e-01 1.4365e+01 8.3000e+01 8.6050e-01]\n",
      " [2.5000e+02 1.5000e+01 2.0250e-01 4.1095e+01 6.5000e+01 6.3850e-01]\n",
      " [7.4000e+02 2.0000e+00 2.8250e-01 9.5545e+01 7.6000e+01 5.1270e-01]\n",
      " [5.5000e+02 1.2000e+01 3.3250e-01 7.9705e+01 6.0000e+00 7.1250e-01]\n",
      " [7.0000e+02 2.0000e+00 3.6750e-01 5.1985e+01 1.0000e+02 3.1290e-01]\n",
      " [4.0000e+02 1.0000e+00 8.2500e-02 3.4750e+00 4.1000e+01 5.0530e-01]\n",
      " [6.1000e+02 1.8000e+01 3.4250e-01 7.8715e+01 3.1000e+01 8.7530e-01]\n",
      " [1.8000e+02 2.4000e+01 4.2750e-01 6.1885e+01 3.8000e+01 5.3490e-01]\n",
      " [3.1000e+02 1.0000e+01 4.2250e-01 2.1295e+01 8.5000e+01 6.0150e-01]\n",
      " [1.5000e+02 1.0000e+01 3.0250e-01 4.4650e+00 5.3000e+01 9.3450e-01]\n",
      " [9.1000e+02 1.4000e+01 2.7500e-02 7.6735e+01 7.4000e+01 3.5730e-01]\n",
      " [9.0000e+02 9.0000e+00 3.1250e-01 9.3565e+01 8.7000e+01 3.8690e-01]\n",
      " [5.1000e+02 0.0000e+00 2.3250e-01 1.3375e+01 2.0000e+00 4.1650e-01]\n",
      " [1.6000e+02 6.0000e+00 2.6750e-01 4.2085e+01 3.3000e+01 3.4990e-01]\n",
      " [5.3000e+02 1.9000e+01 2.2500e-02 2.5255e+01 9.8000e+01 8.0870e-01]\n",
      " [2.4000e+02 1.0000e+01 4.0750e-01 6.7825e+01 1.0000e+01 8.1610e-01]\n",
      " [1.3000e+02 1.6000e+01 3.0750e-01 9.4555e+01 4.5000e+01 5.8670e-01]\n",
      " [7.5000e+02 5.0000e+00 1.2250e-01 6.0895e+01 4.8000e+01 6.0890e-01]\n",
      " [6.2000e+02 1.0000e+00 1.5250e-01 4.8025e+01 1.2000e+01 7.5690e-01]]\n"
     ]
    }
   ],
   "source": [
    "print(X)"
   ]
  },
  {
   "cell_type": "code",
   "execution_count": 17,
   "metadata": {},
   "outputs": [],
   "source": [
    "senstivity_ishigami_gpbased = MonteCarloSensitivity(model = model_emukit, input_domain = parameter_space)\n",
    "main_effects_gp, total_effects_gp, _ = senstivity_ishigami_gpbased.compute_effects(num_monte_carlo_points = 10000)"
   ]
  },
  {
   "cell_type": "code",
   "execution_count": 20,
   "metadata": {},
   "outputs": [
    {
     "data": {
      "text/plain": [
       "{'season_duration': array([-0.00060495]),\n",
       " 'gamma': array([-0.00060495]),\n",
       " 'mut_rate': array([-0.00060495]),\n",
       " 'T': array([-0.00060495]),\n",
       " 'target_area': array([-0.00060495]),\n",
       " 'gradnoise': array([-0.00060495])}"
      ]
     },
     "execution_count": 20,
     "metadata": {},
     "output_type": "execute_result"
    }
   ],
   "source": [
    "main_effects_gp"
   ]
  },
  {
   "cell_type": "code",
   "execution_count": 21,
   "metadata": {},
   "outputs": [
    {
     "data": {
      "text/plain": [
       "{'season_duration': array([1.00060495]),\n",
       " 'gamma': array([0.99548831]),\n",
       " 'mut_rate': array([0.90731089]),\n",
       " 'T': array([1.0006043]),\n",
       " 'target_area': array([0.99850461]),\n",
       " 'gradnoise': array([0.90677508])}"
      ]
     },
     "execution_count": 21,
     "metadata": {},
     "output_type": "execute_result"
    }
   ],
   "source": [
    "total_effects_gp"
   ]
  }
 ],
 "metadata": {
  "kernelspec": {
   "display_name": "sim_env",
   "language": "python",
   "name": "python3"
  },
  "language_info": {
   "codemirror_mode": {
    "name": "ipython",
    "version": 3
   },
   "file_extension": ".py",
   "mimetype": "text/x-python",
   "name": "python",
   "nbconvert_exporter": "python",
   "pygments_lexer": "ipython3",
   "version": "3.9.13"
  },
  "orig_nbformat": 4,
  "vscode": {
   "interpreter": {
    "hash": "4aa652550647b969ee017fbe596928b6ffc84d6ce7ad55201fdcdba3f5c34bb0"
   }
  }
 },
 "nbformat": 4,
 "nbformat_minor": 2
}
