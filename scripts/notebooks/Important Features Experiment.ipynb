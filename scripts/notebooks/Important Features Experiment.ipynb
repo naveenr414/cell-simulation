{
 "cells": [
  {
   "cell_type": "code",
   "execution_count": 1,
   "metadata": {},
   "outputs": [],
   "source": [
    "%load_ext autoreload\n",
    "%autoreload 2"
   ]
  },
  {
   "cell_type": "code",
   "execution_count": 2,
   "metadata": {},
   "outputs": [],
   "source": [
    "import os\n",
    "os.chdir(\"../\")"
   ]
  },
  {
   "cell_type": "code",
   "execution_count": 3,
   "metadata": {},
   "outputs": [],
   "source": [
    "from data_processing.start_experiment import *\n",
    "from data_processing.read_data import *"
   ]
  },
  {
   "cell_type": "code",
   "execution_count": 4,
   "metadata": {},
   "outputs": [],
   "source": [
    "file_name = \"basic_chemotax2.par\"\n",
    "output_file = \"data_cellcount_testing.txt\"\n",
    "\n",
    "mcs = 10000\n",
    "season_experiment = 1\n",
    "season_duration = 1000\n",
    "\n",
    "create_config(file_name, {'mcs': mcs,\n",
    "                          'season_experiment': season_experiment,\n",
    "                          'season_duration': season_duration, \n",
    "                         'keylock_list_filename': '../data/keylock/KL_l24_14_16_g6.dat',\n",
    "                         'evolsim': 1,\n",
    "                        'mut_rate': 0.0})"
   ]
  },
  {
   "cell_type": "code",
   "execution_count": 5,
   "metadata": {},
   "outputs": [],
   "source": [
    "execute_experiment(file_name,output_file)"
   ]
  },
  {
   "cell_type": "code",
   "execution_count": 17,
   "metadata": {},
   "outputs": [
    {
     "name": "stdout",
     "output_type": "stream",
     "text": [
      "[[0. 1. 0. ... 0. 0. 0.]\n",
      " [1. 0. 1. ... 0. 0. 0.]\n",
      " [0. 1. 0. ... 0. 0. 0.]\n",
      " ...\n",
      " [0. 0. 0. ... 0. 1. 0.]\n",
      " [0. 0. 0. ... 1. 0. 0.]\n",
      " [0. 0. 0. ... 0. 0. 0.]]\n",
      "[[58], [63], [51], [26], [24], [39], [35], [49], [37], [27], [29], [30], [38], [50], [40], [25], [59], [36], [57], [47], [28], [46], [73], [71], [74], [0, 1, 2, 3, 4, 5, 6, 7, 8, 9, 10, 11, 12, 13, 14, 15, 16, 17, 18, 19, 20, 21, 22, 23, 31, 32, 33, 34, 42, 43, 44, 45, 53, 54, 55, 56, 64, 65, 66, 67, 68, 69, 70, 75, 76, 77, 78, 79, 80, 81, 82, 83, 84, 85, 86, 87, 88, 89, 90, 91, 92, 93, 94, 95, 96, 97, 98, 99], [61], [48], [60], [72], [41], [62], [52]]\n",
      "46.56\n"
     ]
    }
   ],
   "source": [
    "all_cells = read_data(\"data_cellcount_testing.txt\")\n",
    "adj_matrix = create_graph(all_cells, 0)\n",
    "print(adj_matrix)\n",
    "blobs = find_blobs(adj_matrix)\n",
    "print(blobs)\n",
    "weighted_average = weighted_average_blobsize(blobs)\n",
    "print(weighted_average)"
   ]
  },
  {
   "cell_type": "code",
   "execution_count": 7,
   "metadata": {},
   "outputs": [],
   "source": [
    "for num_same in range(25):\n",
    "    A = [\"0\" for i in range(24)]\n",
    "    B = [\"0\" for i in range(num_same)] + [\"1\" for i in range(24-num_same)]\n",
    "    \n",
    "    assert len(A) == len(B)\n",
    "    w = open(\"../data/keylock/KL_same_{}.dat\".format(num_same),\"w\")\n",
    "    w.write(\"2\\n\")\n",
    "    w.write(\" \".join(A))\n",
    "    w.write(\"\\n\")\n",
    "    w.write(\" \".join(B))\n",
    "    w.write(\"\\n\")"
   ]
  }
 ],
 "metadata": {
  "kernelspec": {
   "display_name": "Python 3 (ipykernel)",
   "language": "python",
   "name": "python3"
  },
  "language_info": {
   "codemirror_mode": {
    "name": "ipython",
    "version": 3
   },
   "file_extension": ".py",
   "mimetype": "text/x-python",
   "name": "python",
   "nbconvert_exporter": "python",
   "pygments_lexer": "ipython3",
   "version": "3.9.12"
  },
  "vscode": {
   "interpreter": {
    "hash": "ac553b53807d6059205a783708d1e08f61d049a184a5375569a266b0ccfc06c6"
   }
  }
 },
 "nbformat": 4,
 "nbformat_minor": 4
}
