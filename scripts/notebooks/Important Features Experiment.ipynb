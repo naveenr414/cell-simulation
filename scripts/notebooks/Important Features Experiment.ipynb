{
 "cells": [
  {
   "cell_type": "code",
   "execution_count": 2,
   "metadata": {},
   "outputs": [],
   "source": [
    "%load_ext autoreload\n",
    "%autoreload 2"
   ]
  },
  {
   "cell_type": "code",
   "execution_count": 3,
   "metadata": {},
   "outputs": [],
   "source": [
    "import os\n",
    "os.chdir(\"../\")"
   ]
  },
  {
   "cell_type": "code",
   "execution_count": 12,
   "metadata": {},
   "outputs": [],
   "source": [
    "from data_processing.start_experiment import *\n",
    "from data_processing.read_data import *"
   ]
  },
  {
   "cell_type": "code",
   "execution_count": 44,
   "metadata": {},
   "outputs": [],
   "source": [
    "import matplotlib.pyplot as plt\n",
    "import numpy as np\n",
    "from emukit.core import ParameterSpace, ContinuousParameter, DiscreteParameter\n",
    "from emukit.core.initial_designs import RandomDesign\n",
    "from GPy.models import GPRegression\n",
    "from emukit.model_wrappers import GPyModelWrapper\n",
    "import GPy"
   ]
  },
  {
   "cell_type": "code",
   "execution_count": 5,
   "metadata": {},
   "outputs": [],
   "source": [
    "file_name = \"basic_chemotax2.par\"\n",
    "output_file = \"data_cellcount_testing.txt\"\n",
    "\n",
    "mcs = 10000\n",
    "season_experiment = 1\n",
    "season_duration = 1000\n",
    "\n",
    "create_config(file_name, {'mcs': mcs,\n",
    "                          'season_experiment': season_experiment,\n",
    "                          'season_duration': season_duration, \n",
    "                         'keylock_list_filename': '../data/keylock/KL_l24_14_16_g6.dat',\n",
    "                         'evolsim': 1,\n",
    "                        'mut_rate': 0.0})"
   ]
  },
  {
   "cell_type": "code",
   "execution_count": 6,
   "metadata": {},
   "outputs": [
    {
     "name": "stderr",
     "output_type": "stream",
     "text": [
      "Opening ../data/parameters/basic_chemotax2.par for reading\n",
      "[T  = 1.600000e+01]\n",
      "[target_area  = 50]\n",
      "[half_div_area  = 500]\n",
      "[half_div_area_2  = -1]\n",
      "[target_length  = 0]\n",
      "[lambda  = 5.000000e+00]\n",
      "[lambda2  = 0.000000e+00]\n",
      "[keylock_list_filename  = ../data/keylock/KL_l24_14_16_g6.dat]\n",
      "[conn_diss  = 0]\n",
      "[vecadherinknockout  = false]\n",
      "[extensiononly  = false]\n",
      "[chemotaxis  = 0]\n",
      "[border_energy  = 100]\n",
      "[neighbours  = 2]\n",
      "[min_area_for_life  = 4]\n",
      "[key_lock_length  = 24]\n",
      "[periodic_boundaries  = false]\n",
      "[n_chem  = 0]\n",
      "[n_init_cells  = 100]\n",
      "[size_init_cells  = 25]\n",
      "[sizex  = 500]\n",
      "[sizey  = 500]\n",
      "[divisions  = 0]\n",
      "[mcs  = 10000]\n",
      "[rseed  = -1]\n",
      "[subfield  = 1.000000e+00]\n",
      "[relaxation  = 0]\n",
      "[storage_stride  = 1000]\n",
      "[graphics  = false]\n",
      "[store  = true]\n",
      "[datadir  = data_film2]\n",
      "[datafile  = data_cellcount.txt]\n",
      "[save_text_file_period  = 1000]\n",
      "[food_influx_location  = specified_experiment]\n",
      "[initial_food_amount  = 0.000000e+00]\n",
      "[foodinflux  = 5.000000e-02]\n",
      "[eatprob  = 1.000000e+00]\n",
      "[ardecay  = 0.000000e+00]\n",
      "[growth  = 0.000000e+00]\n",
      "[gradnoise  = 9.000000e-01]\n",
      "[gradscale  = 1.000000e+00]\n",
      "[min_contact_duration_for_preying  = 2.500000e+01]\n",
      "[frac_contlen_eaten  = 1.000000e+00]\n",
      "[metabolic_conversion  = 5.000000e-01]\n",
      "[chancemediumcopied  = 1.000000e-04]\n",
      "[readcolortable  = false]\n",
      "[colortable_filename  = ../data/circular.ctb]\n",
      "[evolsim  = 1]\n",
      "[mut_rate  = 0.000000e+00]\n",
      "[persduration  = 50]\n",
      "[startmu  = 3.000000e+00]\n",
      "[init_chemmu  = 1.000000e+00]\n",
      "[Jmed_rule_input  = 8o4_3_2_1_1_1]\n",
      "[scaling_cell_to_ca_time  = 10]\n",
      "[backupdir  = backup]\n",
      "[save_backup_period  = 100000]\n",
      "[init_maintenance_fraction  = 1.000000e+00]\n",
      "[init_k_mf_0  = 1.000000e+00]\n",
      "[init_k_mf_A  = 0.000000e+00]\n",
      "[init_k_mf_P  = 0.000000e+00]\n",
      "[init_k_mf_C  = 0.000000e+00]\n",
      "[init_k_ext_0  = 1.000000e+00]\n",
      "[init_k_ext_A  = 0.000000e+00]\n",
      "[init_k_ext_P  = 0.000000e+00]\n",
      "[init_k_ext_C  = 0.000000e+00]\n",
      "[init_weight_for_chemotaxis  = 1.000000e+00]\n",
      "[init_k_chem_0  = 1.000000e+00]\n",
      "[init_k_chem_A  = 0.000000e+00]\n",
      "[init_k_chem_P  = 0.000000e+00]\n",
      "[init_k_chem_C  = 0.000000e+00]\n",
      "[howmany_makeit_for_nextgen  = 50]\n",
      "[popsize  = 100]\n",
      "[the_line  = 50]\n",
      "[is_there_food  = false]\n",
      "[evolreg  = false]\n",
      "[zero_persistence_past_theline  = false]\n",
      "[season_experiment  = true]\n",
      "[season_duration  = 1000]\n",
      "[init_k_ext_0t  = 0.000000e+00]\n",
      "[init_k_ext_Pt  = 0.000000e+00]\n",
      "[init_cell_config  = 0]\n",
      "Offset : 8, Table: 4 3 2 1 1 1\n",
      "Length = 6\n",
      "Reading Key Lock list file\n",
      "Got maxtau = 1\n",
      "New key-lock pairs for tau = 1\n",
      "1 0 0 1 1 0 1 0 1 0 1 1 0 0 0 1 1 0 0 0 1 1 1 0 \n",
      "0 0 1 1 1 1 0 0 0 1 0 0 0 1 1 1 0 1 1 1 0 0 0 1 \n",
      "\n",
      "Warning, this version is ***NOT*** suitable for pde field!!!\n",
      "\n",
      "WARNING, use wrapped boundaries if cells are A LOT smaller than sizex and sizey\n",
      "\n",
      "\n",
      "WARNING: DO NOT EVOLVE CHEMMU, or if you do, change the replication function (where it is always reset to init_chemmu)\n",
      "\n",
      "Randomizing random generator, seed is Random seed is 114289\n",
      "Using X11 graphics (batch mode). sizex and y are 500 500\n",
      "Placed 100 cells out of 100 requested; avrg area = 25\n",
      "nr cells placed 100\n",
      "[ cells = 100]\n",
      "mean_area = 25\n",
      "ConstructInitCells is done\n",
      "InitVectorJ done\n",
      "Hello, got food influx location: specified_experiment\n",
      "init chemmu is1\n",
      "TIME: 0\n",
      "First call - inside Write(), making colors\n",
      "generate color table\n"
     ]
    },
    {
     "name": "stdout",
     "output_type": "stream",
     "text": [
      "Starting the dish. Initialising...\n"
     ]
    },
    {
     "name": "stderr",
     "output_type": "stream",
     "text": [
      "Time = 1000\n",
      "End of season: there are 100 cells\n",
      "After reproduction there are 150 cells\n",
      "After remove there are 100 cells\n",
      "Time = 2000\n",
      "End of season: there are 100 cells\n",
      "After reproduction there are 150 cells\n",
      "After remove there are 100 cells\n"
     ]
    },
    {
     "name": "stdout",
     "output_type": "stream",
     "text": [
      "End of season: Gradient switching at time (+/- 25 MCS) = 1000\n"
     ]
    },
    {
     "name": "stderr",
     "output_type": "stream",
     "text": [
      "Time = 3000\n",
      "End of season: there are 100 cells\n",
      "After reproduction there are 150 cells\n",
      "After remove there are 100 cells\n"
     ]
    },
    {
     "name": "stdout",
     "output_type": "stream",
     "text": [
      "End of season: Gradient switching at time (+/- 25 MCS) = 2000\n",
      "End of season: Gradient switching at time (+/- 25 MCS) = 3000\n"
     ]
    },
    {
     "name": "stderr",
     "output_type": "stream",
     "text": [
      "Time = 4000\n",
      "End of season: there are 100 cells\n",
      "After reproduction there are 150 cells\n",
      "After remove there are 100 cells\n"
     ]
    },
    {
     "name": "stdout",
     "output_type": "stream",
     "text": [
      "End of season: Gradient switching at time (+/- 25 MCS) = 4000\n"
     ]
    },
    {
     "name": "stderr",
     "output_type": "stream",
     "text": [
      "Time = 5000\n",
      "End of season: there are 100 cells\n",
      "After reproduction there are 150 cells\n",
      "After remove there are 100 cells\n"
     ]
    },
    {
     "name": "stdout",
     "output_type": "stream",
     "text": [
      "End of season: Gradient switching at time (+/- 25 MCS) = 5000\n"
     ]
    },
    {
     "name": "stderr",
     "output_type": "stream",
     "text": [
      "Time = 6000\n",
      "End of season: there are 100 cells\n",
      "After reproduction there are 150 cells\n",
      "After remove there are 100 cells\n"
     ]
    },
    {
     "name": "stdout",
     "output_type": "stream",
     "text": [
      "End of season: Gradient switching at time (+/- 25 MCS) = 6000\n"
     ]
    },
    {
     "name": "stderr",
     "output_type": "stream",
     "text": [
      "Time = 7000\n",
      "End of season: there are 100 cells\n",
      "After reproduction there are 150 cells\n",
      "After remove there are 100 cells\n"
     ]
    },
    {
     "name": "stdout",
     "output_type": "stream",
     "text": [
      "End of season: Gradient switching at time (+/- 25 MCS) = 7000\n"
     ]
    },
    {
     "name": "stderr",
     "output_type": "stream",
     "text": [
      "Time = 8000\n",
      "End of season: there are 100 cells\n",
      "After reproduction there are 150 cells\n",
      "After remove there are 100 cells\n"
     ]
    },
    {
     "name": "stdout",
     "output_type": "stream",
     "text": [
      "End of season: Gradient switching at time (+/- 25 MCS) = 8000\n"
     ]
    },
    {
     "name": "stderr",
     "output_type": "stream",
     "text": [
      "Time = 9000\n",
      "End of season: there are 100 cells\n",
      "After reproduction there are 150 cells\n",
      "After remove there are 100 cells\n",
      "Time = 10000\n",
      "End of season: there are 100 cells\n",
      "After reproduction there are 150 cells\n",
      "After remove there are 100 cells\n"
     ]
    },
    {
     "name": "stdout",
     "output_type": "stream",
     "text": [
      "End of season: Gradient switching at time (+/- 25 MCS) = 9000\n",
      "End of season: Gradient switching at time (+/- 25 MCS) = 10000\n"
     ]
    }
   ],
   "source": [
    "execute_experiment(file_name,output_file)"
   ]
  },
  {
   "cell_type": "code",
   "execution_count": 10,
   "metadata": {},
   "outputs": [],
   "source": [
    "all_cells = read_data(\"data_cellcount_testing.txt\")\n",
    "all_times = sorted(list(set([i.time for i in all_cells])))"
   ]
  },
  {
   "cell_type": "code",
   "execution_count": 15,
   "metadata": {},
   "outputs": [],
   "source": [
    "weighted_size_over_time = [weighted_blobsize_cells(all_cells,i) for i in all_times]\n",
    "num_blobs_over_time = [num_blobs_cells(all_cells,i) for i in all_times]"
   ]
  },
  {
   "cell_type": "code",
   "execution_count": 16,
   "metadata": {},
   "outputs": [
    {
     "data": {
      "text/plain": [
       "[<matplotlib.lines.Line2D at 0x7f3996b17310>]"
      ]
     },
     "execution_count": 16,
     "metadata": {},
     "output_type": "execute_result"
    },
    {
     "data": {
      "image/png": "[encoded data removed]",
      "text/plain": [
       "<Figure size 432x288 with 1 Axes>"
      ]
     },
     "metadata": {
      "needs_background": "light"
     },
     "output_type": "display_data"
    }
   ],
   "source": [
    "plt.plot(all_times,weighted_size_over_time)"
   ]
  },
  {
   "cell_type": "code",
   "execution_count": 17,
   "metadata": {},
   "outputs": [
    {
     "data": {
      "text/plain": [
       "[<matplotlib.lines.Line2D at 0x7f3996a235b0>]"
      ]
     },
     "execution_count": 17,
     "metadata": {},
     "output_type": "execute_result"
    },
    {
     "data": {
      "image/png": "[encoded data removed]",
      "text/plain": [
       "<Figure size 432x288 with 1 Axes>"
      ]
     },
     "metadata": {
      "needs_background": "light"
     },
     "output_type": "display_data"
    }
   ],
   "source": [
    "plt.plot(all_times,num_blobs_over_time)"
   ]
  },
  {
   "cell_type": "code",
   "execution_count": 45,
   "metadata": {},
   "outputs": [],
   "source": [
    "def get_reward(X):\n",
    "    rewards = np.empty(shape=[0, 1])\n",
    "    file_name = \"basic_chemotax2.par\"\n",
    "    output_file = \"data_cellcount_testing.txt\"\n",
    "    mcs = 1000\n",
    "    season_experiment = 1\n",
    "    save_text_file_period = 10\n",
    "\n",
    "    \n",
    "    for i in range(X.shape[0]):\n",
    "        season_duration = int(X[i,None])\n",
    "        print(\"Season duration is {}\".format(season_duration))\n",
    "        create_config(file_name, {'mcs': mcs,\n",
    "                          'season_experiment': season_experiment,\n",
    "                          'season_duration': season_duration, \n",
    "                         'keylock_list_filename': '../data/keylock/KL_l24_14_16_g6.dat',\n",
    "                        'save_text_file_period': save_text_file_period,\n",
    "                         'evolsim': 1,\n",
    "                        'mut_rate': 0.0})\n",
    "        execute_experiment(file_name,output_file)\n",
    "        \n",
    "        all_cells = read_data(\"data_cellcount_testing.txt\")\n",
    "        all_times = sorted(list(set([i.time for i in all_cells])))\n",
    "        \n",
    "        weighted_size_over_time = [weighted_blobsize_cells(all_cells,i) for i in all_times]\n",
    "        \n",
    "        average_weighted_size = np.mean(weighted_size_over_time)\n",
    "        \n",
    "        rewards = np.vstack([rewards, average_weighted_size])\n",
    "    return rewards"
   ]
  },
  {
   "cell_type": "code",
   "execution_count": 33,
   "metadata": {},
   "outputs": [
    {
     "name": "stdout",
     "output_type": "stream",
     "text": [
      "Season duration is 100\n",
      "Starting the dish. Initialising...\n"
     ]
    },
    {
     "name": "stderr",
     "output_type": "stream",
     "text": [
      "Opening ../data/parameters/basic_chemotax2.par for reading\n",
      "[T  = 1.600000e+01]\n",
      "[target_area  = 50]\n",
      "[half_div_area  = 500]\n",
      "[half_div_area_2  = -1]\n",
      "[target_length  = 0]\n",
      "[lambda  = 5.000000e+00]\n",
      "[lambda2  = 0.000000e+00]\n",
      "[keylock_list_filename  = ../data/keylock/KL_l24_14_16_g6.dat]\n",
      "[conn_diss  = 0]\n",
      "[vecadherinknockout  = false]\n",
      "[extensiononly  = false]\n",
      "[chemotaxis  = 0]\n",
      "[border_energy  = 100]\n",
      "[neighbours  = 2]\n",
      "[min_area_for_life  = 4]\n",
      "[key_lock_length  = 24]\n",
      "[periodic_boundaries  = false]\n",
      "[n_chem  = 0]\n",
      "[n_init_cells  = 100]\n",
      "[size_init_cells  = 25]\n",
      "[sizex  = 500]\n",
      "[sizey  = 500]\n",
      "[divisions  = 0]\n",
      "[mcs  = 1000]\n",
      "[rseed  = -1]\n",
      "[subfield  = 1.000000e+00]\n",
      "[relaxation  = 0]\n",
      "[storage_stride  = 1000]\n",
      "[graphics  = false]\n",
      "[store  = true]\n",
      "[datadir  = data_film2]\n",
      "[datafile  = data_cellcount.txt]\n",
      "[save_text_file_period  = 100]\n",
      "[food_influx_location  = specified_experiment]\n",
      "[initial_food_amount  = 0.000000e+00]\n",
      "[foodinflux  = 5.000000e-02]\n",
      "[eatprob  = 1.000000e+00]\n",
      "[ardecay  = 0.000000e+00]\n",
      "[growth  = 0.000000e+00]\n",
      "[gradnoise  = 9.000000e-01]\n",
      "[gradscale  = 1.000000e+00]\n",
      "[min_contact_duration_for_preying  = 2.500000e+01]\n",
      "[frac_contlen_eaten  = 1.000000e+00]\n",
      "[metabolic_conversion  = 5.000000e-01]\n",
      "[chancemediumcopied  = 1.000000e-04]\n",
      "[readcolortable  = false]\n",
      "[colortable_filename  = ../data/circular.ctb]\n",
      "[evolsim  = 1]\n",
      "[mut_rate  = 0.000000e+00]\n",
      "[persduration  = 50]\n",
      "[startmu  = 3.000000e+00]\n",
      "[init_chemmu  = 1.000000e+00]\n",
      "[Jmed_rule_input  = 8o4_3_2_1_1_1]\n",
      "[scaling_cell_to_ca_time  = 10]\n",
      "[backupdir  = backup]\n",
      "[save_backup_period  = 100000]\n",
      "[init_maintenance_fraction  = 1.000000e+00]\n",
      "[init_k_mf_0  = 1.000000e+00]\n",
      "[init_k_mf_A  = 0.000000e+00]\n",
      "[init_k_mf_P  = 0.000000e+00]\n",
      "[init_k_mf_C  = 0.000000e+00]\n",
      "[init_k_ext_0  = 1.000000e+00]\n",
      "[init_k_ext_A  = 0.000000e+00]\n",
      "[init_k_ext_P  = 0.000000e+00]\n",
      "[init_k_ext_C  = 0.000000e+00]\n",
      "[init_weight_for_chemotaxis  = 1.000000e+00]\n",
      "[init_k_chem_0  = 1.000000e+00]\n",
      "[init_k_chem_A  = 0.000000e+00]\n",
      "[init_k_chem_P  = 0.000000e+00]\n",
      "[init_k_chem_C  = 0.000000e+00]\n",
      "[howmany_makeit_for_nextgen  = 50]\n",
      "[popsize  = 100]\n",
      "[the_line  = 50]\n",
      "[is_there_food  = false]\n",
      "[evolreg  = false]\n",
      "[zero_persistence_past_theline  = false]\n",
      "[season_experiment  = true]\n",
      "[season_duration  = 100]\n",
      "[init_k_ext_0t  = 0.000000e+00]\n",
      "[init_k_ext_Pt  = 0.000000e+00]\n",
      "[init_cell_config  = 0]\n",
      "Offset : 8, Table: 4 3 2 1 1 1\n",
      "Length = 6\n",
      "Reading Key Lock list file\n",
      "Got maxtau = 1\n",
      "New key-lock pairs for tau = 1\n",
      "1 0 0 1 1 0 1 0 1 0 1 1 0 0 0 1 1 0 0 0 1 1 1 0 \n",
      "0 0 1 1 1 1 0 0 0 1 0 0 0 1 1 1 0 1 1 1 0 0 0 1 \n",
      "\n",
      "Warning, this version is ***NOT*** suitable for pde field!!!\n",
      "\n",
      "WARNING, use wrapped boundaries if cells are A LOT smaller than sizex and sizey\n",
      "\n",
      "\n",
      "WARNING: DO NOT EVOLVE CHEMMU, or if you do, change the replication function (where it is always reset to init_chemmu)\n",
      "\n",
      "Randomizing random generator, seed is Random seed is 543350\n",
      "Using X11 graphics (batch mode). sizex and y are 500 500\n",
      "Placed 100 cells out of 100 requested; avrg area = 25\n",
      "nr cells placed 100\n",
      "[ cells = 100]\n",
      "mean_area = 25\n",
      "ConstructInitCells is done\n",
      "InitVectorJ done\n",
      "Hello, got food influx location: specified_experiment\n",
      "init chemmu is1\n",
      "TIME: 0\n",
      "First call - inside Write(), making colors\n",
      "generate color table\n",
      "Time = 100\n",
      "End of season: there are 100 cells\n",
      "After reproduction there are 150 cells\n",
      "After remove there are 100 cells\n",
      "Time = 200\n",
      "End of season: there are 100 cells\n",
      "After reproduction there are 150 cells\n",
      "After remove there are 100 cells\n"
     ]
    },
    {
     "name": "stdout",
     "output_type": "stream",
     "text": [
      "End of season: Gradient switching at time (+/- 25 MCS) = 100\n"
     ]
    },
    {
     "name": "stderr",
     "output_type": "stream",
     "text": [
      "Time = 300\n",
      "End of season: there are 100 cells\n",
      "After reproduction there are 150 cells\n",
      "After remove there are 100 cells\n"
     ]
    },
    {
     "name": "stdout",
     "output_type": "stream",
     "text": [
      "End of season: Gradient switching at time (+/- 25 MCS) = 200\n",
      "End of season: Gradient switching at time (+/- 25 MCS) = 300\n"
     ]
    },
    {
     "name": "stderr",
     "output_type": "stream",
     "text": [
      "Time = 400\n",
      "End of season: there are 100 cells\n",
      "After reproduction there are 150 cells\n",
      "After remove there are 100 cells\n",
      "Time = 500\n",
      "End of season: there are 100 cells\n",
      "After reproduction there are 150 cells\n",
      "After remove there are 100 cells\n"
     ]
    },
    {
     "name": "stdout",
     "output_type": "stream",
     "text": [
      "End of season: Gradient switching at time (+/- 25 MCS) = 400\n",
      "End of season: Gradient switching at time (+/- 25 MCS) = 500\n"
     ]
    },
    {
     "name": "stderr",
     "output_type": "stream",
     "text": [
      "Time = 600\n",
      "End of season: there are 100 cells\n",
      "After reproduction there are 150 cells\n",
      "After remove there are 100 cells\n",
      "Time = 700\n",
      "End of season: there are 100 cells\n",
      "After reproduction there are 150 cells\n",
      "After remove there are 100 cells\n"
     ]
    },
    {
     "name": "stdout",
     "output_type": "stream",
     "text": [
      "End of season: Gradient switching at time (+/- 25 MCS) = 600\n"
     ]
    },
    {
     "name": "stderr",
     "output_type": "stream",
     "text": [
      "Time = 800\n",
      "End of season: there are 100 cells\n",
      "After reproduction there are 150 cells\n",
      "After remove there are 100 cells\n"
     ]
    },
    {
     "name": "stdout",
     "output_type": "stream",
     "text": [
      "End of season: Gradient switching at time (+/- 25 MCS) = 700\n",
      "End of season: Gradient switching at time (+/- 25 MCS) = 800\n"
     ]
    },
    {
     "name": "stderr",
     "output_type": "stream",
     "text": [
      "Time = 900\n",
      "End of season: there are 100 cells\n",
      "After reproduction there are 150 cells\n",
      "After remove there are 100 cells\n"
     ]
    },
    {
     "name": "stdout",
     "output_type": "stream",
     "text": [
      "End of season: Gradient switching at time (+/- 25 MCS) = 900\n"
     ]
    },
    {
     "name": "stderr",
     "output_type": "stream",
     "text": [
      "Time = 1000\n",
      "End of season: there are 100 cells\n",
      "After reproduction there are 150 cells\n",
      "After remove there are 100 cells\n"
     ]
    },
    {
     "name": "stdout",
     "output_type": "stream",
     "text": [
      "End of season: Gradient switching at time (+/- 25 MCS) = 1000\n",
      "Season duration is 200\n",
      "Starting the dish. Initialising...\n"
     ]
    },
    {
     "name": "stderr",
     "output_type": "stream",
     "text": [
      "Opening ../data/parameters/basic_chemotax2.par for reading\n",
      "[T  = 1.600000e+01]\n",
      "[target_area  = 50]\n",
      "[half_div_area  = 500]\n",
      "[half_div_area_2  = -1]\n",
      "[target_length  = 0]\n",
      "[lambda  = 5.000000e+00]\n",
      "[lambda2  = 0.000000e+00]\n",
      "[keylock_list_filename  = ../data/keylock/KL_l24_14_16_g6.dat]\n",
      "[conn_diss  = 0]\n",
      "[vecadherinknockout  = false]\n",
      "[extensiononly  = false]\n",
      "[chemotaxis  = 0]\n",
      "[border_energy  = 100]\n",
      "[neighbours  = 2]\n",
      "[min_area_for_life  = 4]\n",
      "[key_lock_length  = 24]\n",
      "[periodic_boundaries  = false]\n",
      "[n_chem  = 0]\n",
      "[n_init_cells  = 100]\n",
      "[size_init_cells  = 25]\n",
      "[sizex  = 500]\n",
      "[sizey  = 500]\n",
      "[divisions  = 0]\n",
      "[mcs  = 1000]\n",
      "[rseed  = -1]\n",
      "[subfield  = 1.000000e+00]\n",
      "[relaxation  = 0]\n",
      "[storage_stride  = 1000]\n",
      "[graphics  = false]\n",
      "[store  = true]\n",
      "[datadir  = data_film2]\n",
      "[datafile  = data_cellcount.txt]\n",
      "[save_text_file_period  = 100]\n",
      "[food_influx_location  = specified_experiment]\n",
      "[initial_food_amount  = 0.000000e+00]\n",
      "[foodinflux  = 5.000000e-02]\n",
      "[eatprob  = 1.000000e+00]\n",
      "[ardecay  = 0.000000e+00]\n",
      "[growth  = 0.000000e+00]\n",
      "[gradnoise  = 9.000000e-01]\n",
      "[gradscale  = 1.000000e+00]\n",
      "[min_contact_duration_for_preying  = 2.500000e+01]\n",
      "[frac_contlen_eaten  = 1.000000e+00]\n",
      "[metabolic_conversion  = 5.000000e-01]\n",
      "[chancemediumcopied  = 1.000000e-04]\n",
      "[readcolortable  = false]\n",
      "[colortable_filename  = ../data/circular.ctb]\n",
      "[evolsim  = 1]\n",
      "[mut_rate  = 0.000000e+00]\n",
      "[persduration  = 50]\n",
      "[startmu  = 3.000000e+00]\n",
      "[init_chemmu  = 1.000000e+00]\n",
      "[Jmed_rule_input  = 8o4_3_2_1_1_1]\n",
      "[scaling_cell_to_ca_time  = 10]\n",
      "[backupdir  = backup]\n",
      "[save_backup_period  = 100000]\n",
      "[init_maintenance_fraction  = 1.000000e+00]\n",
      "[init_k_mf_0  = 1.000000e+00]\n",
      "[init_k_mf_A  = 0.000000e+00]\n",
      "[init_k_mf_P  = 0.000000e+00]\n",
      "[init_k_mf_C  = 0.000000e+00]\n",
      "[init_k_ext_0  = 1.000000e+00]\n",
      "[init_k_ext_A  = 0.000000e+00]\n",
      "[init_k_ext_P  = 0.000000e+00]\n",
      "[init_k_ext_C  = 0.000000e+00]\n",
      "[init_weight_for_chemotaxis  = 1.000000e+00]\n",
      "[init_k_chem_0  = 1.000000e+00]\n",
      "[init_k_chem_A  = 0.000000e+00]\n",
      "[init_k_chem_P  = 0.000000e+00]\n",
      "[init_k_chem_C  = 0.000000e+00]\n",
      "[howmany_makeit_for_nextgen  = 50]\n",
      "[popsize  = 100]\n",
      "[the_line  = 50]\n",
      "[is_there_food  = false]\n",
      "[evolreg  = false]\n",
      "[zero_persistence_past_theline  = false]\n",
      "[season_experiment  = true]\n",
      "[season_duration  = 200]\n",
      "[init_k_ext_0t  = 0.000000e+00]\n",
      "[init_k_ext_Pt  = 0.000000e+00]\n",
      "[init_cell_config  = 0]\n",
      "Offset : 8, Table: 4 3 2 1 1 1\n",
      "Length = 6\n",
      "Reading Key Lock list file\n",
      "Got maxtau = 1\n",
      "New key-lock pairs for tau = 1\n",
      "1 0 0 1 1 0 1 0 1 0 1 1 0 0 0 1 1 0 0 0 1 1 1 0 \n",
      "0 0 1 1 1 1 0 0 0 1 0 0 0 1 1 1 0 1 1 1 0 0 0 1 \n",
      "\n",
      "Warning, this version is ***NOT*** suitable for pde field!!!\n",
      "\n",
      "WARNING, use wrapped boundaries if cells are A LOT smaller than sizex and sizey\n",
      "\n",
      "\n",
      "WARNING: DO NOT EVOLVE CHEMMU, or if you do, change the replication function (where it is always reset to init_chemmu)\n",
      "\n",
      "Randomizing random generator, seed is Random seed is 6493\n",
      "Using X11 graphics (batch mode). sizex and y are 500 500\n",
      "Placed 100 cells out of 100 requested; avrg area = 25\n",
      "nr cells placed 100\n",
      "[ cells = 100]\n",
      "mean_area = 25\n",
      "ConstructInitCells is done\n",
      "InitVectorJ done\n",
      "Hello, got food influx location: specified_experiment\n",
      "init chemmu is1\n",
      "TIME: 0\n",
      "First call - inside Write(), making colors\n",
      "generate color table\n",
      "Time = 200\n",
      "End of season: there are 100 cells\n",
      "After reproduction there are 150 cells\n",
      "After remove there are 100 cells\n"
     ]
    },
    {
     "name": "stdout",
     "output_type": "stream",
     "text": [
      "End of season: Gradient switching at time (+/- 25 MCS) = 200\n"
     ]
    },
    {
     "name": "stderr",
     "output_type": "stream",
     "text": [
      "Time = 400\n",
      "End of season: there are 100 cells\n",
      "After reproduction there are 150 cells\n",
      "After remove there are 100 cells\n"
     ]
    },
    {
     "name": "stdout",
     "output_type": "stream",
     "text": [
      "End of season: Gradient switching at time (+/- 25 MCS) = 400\n"
     ]
    },
    {
     "name": "stderr",
     "output_type": "stream",
     "text": [
      "Time = 600\n",
      "End of season: there are 100 cells\n",
      "After reproduction there are 150 cells\n",
      "After remove there are 100 cells\n"
     ]
    },
    {
     "name": "stdout",
     "output_type": "stream",
     "text": [
      "End of season: Gradient switching at time (+/- 25 MCS) = 600\n"
     ]
    },
    {
     "name": "stderr",
     "output_type": "stream",
     "text": [
      "Time = 800\n",
      "End of season: there are 100 cells\n",
      "After reproduction there are 150 cells\n",
      "After remove there are 100 cells\n",
      "Time = 1000\n",
      "End of season: there are 100 cells\n",
      "After reproduction there are 150 cells\n",
      "After remove there are 100 cells\n"
     ]
    },
    {
     "name": "stdout",
     "output_type": "stream",
     "text": [
      "End of season: Gradient switching at time (+/- 25 MCS) = 800\n",
      "End of season: Gradient switching at time (+/- 25 MCS) = 1000\n"
     ]
    },
    {
     "data": {
      "text/plain": [
       "array([[91.90909091],\n",
       "       [88.62545455]])"
      ]
     },
     "execution_count": 33,
     "metadata": {},
     "output_type": "execute_result"
    }
   ],
   "source": [
    "get_reward(np.array([100,200]))"
   ]
  },
  {
   "cell_type": "code",
   "execution_count": 34,
   "metadata": {},
   "outputs": [],
   "source": [
    "parameter_space = ParameterSpace([DiscreteParameter('season_duration',list(range(100,1000,10)))])"
   ]
  },
  {
   "cell_type": "code",
   "execution_count": 46,
   "metadata": {},
   "outputs": [],
   "source": [
    "design = RandomDesign(parameter_space) \n",
    "X = design.get_samples(3)"
   ]
  },
  {
   "cell_type": "code",
   "execution_count": 47,
   "metadata": {},
   "outputs": [
    {
     "name": "stdout",
     "output_type": "stream",
     "text": [
      "Season duration is 820\n",
      "Starting the dish. Initialising...\n"
     ]
    },
    {
     "name": "stderr",
     "output_type": "stream",
     "text": [
      "Opening ../data/parameters/basic_chemotax2.par for reading\n",
      "[T  = 1.600000e+01]\n",
      "[target_area  = 50]\n",
      "[half_div_area  = 500]\n",
      "[half_div_area_2  = -1]\n",
      "[target_length  = 0]\n",
      "[lambda  = 5.000000e+00]\n",
      "[lambda2  = 0.000000e+00]\n",
      "[keylock_list_filename  = ../data/keylock/KL_l24_14_16_g6.dat]\n",
      "[conn_diss  = 0]\n",
      "[vecadherinknockout  = false]\n",
      "[extensiononly  = false]\n",
      "[chemotaxis  = 0]\n",
      "[border_energy  = 100]\n",
      "[neighbours  = 2]\n",
      "[min_area_for_life  = 4]\n",
      "[key_lock_length  = 24]\n",
      "[periodic_boundaries  = false]\n",
      "[n_chem  = 0]\n",
      "[n_init_cells  = 100]\n",
      "[size_init_cells  = 25]\n",
      "[sizex  = 500]\n",
      "[sizey  = 500]\n",
      "[divisions  = 0]\n",
      "[mcs  = 1000]\n",
      "[rseed  = -1]\n",
      "[subfield  = 1.000000e+00]\n",
      "[relaxation  = 0]\n",
      "[storage_stride  = 1000]\n",
      "[graphics  = false]\n",
      "[store  = true]\n",
      "[datadir  = data_film2]\n",
      "[datafile  = data_cellcount.txt]\n",
      "[save_text_file_period  = 10]\n",
      "[food_influx_location  = specified_experiment]\n",
      "[initial_food_amount  = 0.000000e+00]\n",
      "[foodinflux  = 5.000000e-02]\n",
      "[eatprob  = 1.000000e+00]\n",
      "[ardecay  = 0.000000e+00]\n",
      "[growth  = 0.000000e+00]\n",
      "[gradnoise  = 9.000000e-01]\n",
      "[gradscale  = 1.000000e+00]\n",
      "[min_contact_duration_for_preying  = 2.500000e+01]\n",
      "[frac_contlen_eaten  = 1.000000e+00]\n",
      "[metabolic_conversion  = 5.000000e-01]\n",
      "[chancemediumcopied  = 1.000000e-04]\n",
      "[readcolortable  = false]\n",
      "[colortable_filename  = ../data/circular.ctb]\n",
      "[evolsim  = 1]\n",
      "[mut_rate  = 0.000000e+00]\n",
      "[persduration  = 50]\n",
      "[startmu  = 3.000000e+00]\n",
      "[init_chemmu  = 1.000000e+00]\n",
      "[Jmed_rule_input  = 8o4_3_2_1_1_1]\n",
      "[scaling_cell_to_ca_time  = 10]\n",
      "[backupdir  = backup]\n",
      "[save_backup_period  = 100000]\n",
      "[init_maintenance_fraction  = 1.000000e+00]\n",
      "[init_k_mf_0  = 1.000000e+00]\n",
      "[init_k_mf_A  = 0.000000e+00]\n",
      "[init_k_mf_P  = 0.000000e+00]\n",
      "[init_k_mf_C  = 0.000000e+00]\n",
      "[init_k_ext_0  = 1.000000e+00]\n",
      "[init_k_ext_A  = 0.000000e+00]\n",
      "[init_k_ext_P  = 0.000000e+00]\n",
      "[init_k_ext_C  = 0.000000e+00]\n",
      "[init_weight_for_chemotaxis  = 1.000000e+00]\n",
      "[init_k_chem_0  = 1.000000e+00]\n",
      "[init_k_chem_A  = 0.000000e+00]\n",
      "[init_k_chem_P  = 0.000000e+00]\n",
      "[init_k_chem_C  = 0.000000e+00]\n",
      "[howmany_makeit_for_nextgen  = 50]\n",
      "[popsize  = 100]\n",
      "[the_line  = 50]\n",
      "[is_there_food  = false]\n",
      "[evolreg  = false]\n",
      "[zero_persistence_past_theline  = false]\n",
      "[season_experiment  = true]\n",
      "[season_duration  = 820]\n",
      "[init_k_ext_0t  = 0.000000e+00]\n",
      "[init_k_ext_Pt  = 0.000000e+00]\n",
      "[init_cell_config  = 0]\n",
      "Offset : 8, Table: 4 3 2 1 1 1\n",
      "Length = 6\n",
      "Reading Key Lock list file\n",
      "Got maxtau = 1\n",
      "New key-lock pairs for tau = 1\n",
      "1 0 0 1 1 0 1 0 1 0 1 1 0 0 0 1 1 0 0 0 1 1 1 0 \n",
      "0 0 1 1 1 1 0 0 0 1 0 0 0 1 1 1 0 1 1 1 0 0 0 1 \n",
      "\n",
      "Warning, this version is ***NOT*** suitable for pde field!!!\n",
      "\n",
      "WARNING, use wrapped boundaries if cells are A LOT smaller than sizex and sizey\n",
      "\n",
      "\n",
      "WARNING: DO NOT EVOLVE CHEMMU, or if you do, change the replication function (where it is always reset to init_chemmu)\n",
      "\n",
      "Randomizing random generator, seed is Random seed is 577305\n",
      "Using X11 graphics (batch mode). sizex and y are 500 500\n",
      "Placed 100 cells out of 100 requested; avrg area = 25\n",
      "nr cells placed 100\n",
      "[ cells = 100]\n",
      "mean_area = 25\n",
      "ConstructInitCells is done\n",
      "InitVectorJ done\n",
      "Hello, got food influx location: specified_experiment\n",
      "init chemmu is1\n",
      "TIME: 0\n",
      "First call - inside Write(), making colors\n",
      "generate color table\n"
     ]
    },
    {
     "name": "stdout",
     "output_type": "stream",
     "text": [
      "Season duration is 660\n",
      "Starting the dish. Initialising...\n"
     ]
    },
    {
     "name": "stderr",
     "output_type": "stream",
     "text": [
      "Opening ../data/parameters/basic_chemotax2.par for reading\n",
      "[T  = 1.600000e+01]\n",
      "[target_area  = 50]\n",
      "[half_div_area  = 500]\n",
      "[half_div_area_2  = -1]\n",
      "[target_length  = 0]\n",
      "[lambda  = 5.000000e+00]\n",
      "[lambda2  = 0.000000e+00]\n",
      "[keylock_list_filename  = ../data/keylock/KL_l24_14_16_g6.dat]\n",
      "[conn_diss  = 0]\n",
      "[vecadherinknockout  = false]\n",
      "[extensiononly  = false]\n",
      "[chemotaxis  = 0]\n",
      "[border_energy  = 100]\n",
      "[neighbours  = 2]\n",
      "[min_area_for_life  = 4]\n",
      "[key_lock_length  = 24]\n",
      "[periodic_boundaries  = false]\n",
      "[n_chem  = 0]\n",
      "[n_init_cells  = 100]\n",
      "[size_init_cells  = 25]\n",
      "[sizex  = 500]\n",
      "[sizey  = 500]\n",
      "[divisions  = 0]\n",
      "[mcs  = 1000]\n",
      "[rseed  = -1]\n",
      "[subfield  = 1.000000e+00]\n",
      "[relaxation  = 0]\n",
      "[storage_stride  = 1000]\n",
      "[graphics  = false]\n",
      "[store  = true]\n",
      "[datadir  = data_film2]\n",
      "[datafile  = data_cellcount.txt]\n",
      "[save_text_file_period  = 10]\n",
      "[food_influx_location  = specified_experiment]\n",
      "[initial_food_amount  = 0.000000e+00]\n",
      "[foodinflux  = 5.000000e-02]\n",
      "[eatprob  = 1.000000e+00]\n",
      "[ardecay  = 0.000000e+00]\n",
      "[growth  = 0.000000e+00]\n",
      "[gradnoise  = 9.000000e-01]\n",
      "[gradscale  = 1.000000e+00]\n",
      "[min_contact_duration_for_preying  = 2.500000e+01]\n",
      "[frac_contlen_eaten  = 1.000000e+00]\n",
      "[metabolic_conversion  = 5.000000e-01]\n",
      "[chancemediumcopied  = 1.000000e-04]\n",
      "[readcolortable  = false]\n",
      "[colortable_filename  = ../data/circular.ctb]\n",
      "[evolsim  = 1]\n",
      "[mut_rate  = 0.000000e+00]\n",
      "[persduration  = 50]\n",
      "[startmu  = 3.000000e+00]\n",
      "[init_chemmu  = 1.000000e+00]\n",
      "[Jmed_rule_input  = 8o4_3_2_1_1_1]\n",
      "[scaling_cell_to_ca_time  = 10]\n",
      "[backupdir  = backup]\n",
      "[save_backup_period  = 100000]\n",
      "[init_maintenance_fraction  = 1.000000e+00]\n",
      "[init_k_mf_0  = 1.000000e+00]\n",
      "[init_k_mf_A  = 0.000000e+00]\n",
      "[init_k_mf_P  = 0.000000e+00]\n",
      "[init_k_mf_C  = 0.000000e+00]\n",
      "[init_k_ext_0  = 1.000000e+00]\n",
      "[init_k_ext_A  = 0.000000e+00]\n",
      "[init_k_ext_P  = 0.000000e+00]\n",
      "[init_k_ext_C  = 0.000000e+00]\n",
      "[init_weight_for_chemotaxis  = 1.000000e+00]\n",
      "[init_k_chem_0  = 1.000000e+00]\n",
      "[init_k_chem_A  = 0.000000e+00]\n",
      "[init_k_chem_P  = 0.000000e+00]\n",
      "[init_k_chem_C  = 0.000000e+00]\n",
      "[howmany_makeit_for_nextgen  = 50]\n",
      "[popsize  = 100]\n",
      "[the_line  = 50]\n",
      "[is_there_food  = false]\n",
      "[evolreg  = false]\n",
      "[zero_persistence_past_theline  = false]\n",
      "[season_experiment  = true]\n",
      "[season_duration  = 660]\n",
      "[init_k_ext_0t  = 0.000000e+00]\n",
      "[init_k_ext_Pt  = 0.000000e+00]\n",
      "[init_cell_config  = 0]\n",
      "Offset : 8, Table: 4 3 2 1 1 1\n",
      "Length = 6\n",
      "Reading Key Lock list file\n",
      "Got maxtau = 1\n",
      "New key-lock pairs for tau = 1\n",
      "1 0 0 1 1 0 1 0 1 0 1 1 0 0 0 1 1 0 0 0 1 1 1 0 \n",
      "0 0 1 1 1 1 0 0 0 1 0 0 0 1 1 1 0 1 1 1 0 0 0 1 \n",
      "\n",
      "Warning, this version is ***NOT*** suitable for pde field!!!\n",
      "\n",
      "WARNING, use wrapped boundaries if cells are A LOT smaller than sizex and sizey\n",
      "\n",
      "\n",
      "WARNING: DO NOT EVOLVE CHEMMU, or if you do, change the replication function (where it is always reset to init_chemmu)\n",
      "\n",
      "Randomizing random generator, seed is Random seed is 312261\n",
      "Using X11 graphics (batch mode). sizex and y are 500 500\n",
      "Placed 100 cells out of 100 requested; avrg area = 25\n",
      "nr cells placed 100\n",
      "[ cells = 100]\n",
      "mean_area = 25\n",
      "ConstructInitCells is done\n",
      "InitVectorJ done\n",
      "Hello, got food influx location: specified_experiment\n",
      "init chemmu is1\n",
      "TIME: 0\n",
      "First call - inside Write(), making colors\n",
      "generate color table\n"
     ]
    },
    {
     "name": "stdout",
     "output_type": "stream",
     "text": [
      "Season duration is 330\n",
      "Starting the dish. Initialising...\n"
     ]
    },
    {
     "name": "stderr",
     "output_type": "stream",
     "text": [
      "Opening ../data/parameters/basic_chemotax2.par for reading\n",
      "[T  = 1.600000e+01]\n",
      "[target_area  = 50]\n",
      "[half_div_area  = 500]\n",
      "[half_div_area_2  = -1]\n",
      "[target_length  = 0]\n",
      "[lambda  = 5.000000e+00]\n",
      "[lambda2  = 0.000000e+00]\n",
      "[keylock_list_filename  = ../data/keylock/KL_l24_14_16_g6.dat]\n",
      "[conn_diss  = 0]\n",
      "[vecadherinknockout  = false]\n",
      "[extensiononly  = false]\n",
      "[chemotaxis  = 0]\n",
      "[border_energy  = 100]\n",
      "[neighbours  = 2]\n",
      "[min_area_for_life  = 4]\n",
      "[key_lock_length  = 24]\n",
      "[periodic_boundaries  = false]\n",
      "[n_chem  = 0]\n",
      "[n_init_cells  = 100]\n",
      "[size_init_cells  = 25]\n",
      "[sizex  = 500]\n",
      "[sizey  = 500]\n",
      "[divisions  = 0]\n",
      "[mcs  = 1000]\n",
      "[rseed  = -1]\n",
      "[subfield  = 1.000000e+00]\n",
      "[relaxation  = 0]\n",
      "[storage_stride  = 1000]\n",
      "[graphics  = false]\n",
      "[store  = true]\n",
      "[datadir  = data_film2]\n",
      "[datafile  = data_cellcount.txt]\n",
      "[save_text_file_period  = 10]\n",
      "[food_influx_location  = specified_experiment]\n",
      "[initial_food_amount  = 0.000000e+00]\n",
      "[foodinflux  = 5.000000e-02]\n",
      "[eatprob  = 1.000000e+00]\n",
      "[ardecay  = 0.000000e+00]\n",
      "[growth  = 0.000000e+00]\n",
      "[gradnoise  = 9.000000e-01]\n",
      "[gradscale  = 1.000000e+00]\n",
      "[min_contact_duration_for_preying  = 2.500000e+01]\n",
      "[frac_contlen_eaten  = 1.000000e+00]\n",
      "[metabolic_conversion  = 5.000000e-01]\n",
      "[chancemediumcopied  = 1.000000e-04]\n",
      "[readcolortable  = false]\n",
      "[colortable_filename  = ../data/circular.ctb]\n",
      "[evolsim  = 1]\n",
      "[mut_rate  = 0.000000e+00]\n",
      "[persduration  = 50]\n",
      "[startmu  = 3.000000e+00]\n",
      "[init_chemmu  = 1.000000e+00]\n",
      "[Jmed_rule_input  = 8o4_3_2_1_1_1]\n",
      "[scaling_cell_to_ca_time  = 10]\n",
      "[backupdir  = backup]\n",
      "[save_backup_period  = 100000]\n",
      "[init_maintenance_fraction  = 1.000000e+00]\n",
      "[init_k_mf_0  = 1.000000e+00]\n",
      "[init_k_mf_A  = 0.000000e+00]\n",
      "[init_k_mf_P  = 0.000000e+00]\n",
      "[init_k_mf_C  = 0.000000e+00]\n",
      "[init_k_ext_0  = 1.000000e+00]\n",
      "[init_k_ext_A  = 0.000000e+00]\n",
      "[init_k_ext_P  = 0.000000e+00]\n",
      "[init_k_ext_C  = 0.000000e+00]\n",
      "[init_weight_for_chemotaxis  = 1.000000e+00]\n",
      "[init_k_chem_0  = 1.000000e+00]\n",
      "[init_k_chem_A  = 0.000000e+00]\n",
      "[init_k_chem_P  = 0.000000e+00]\n",
      "[init_k_chem_C  = 0.000000e+00]\n",
      "[howmany_makeit_for_nextgen  = 50]\n",
      "[popsize  = 100]\n",
      "[the_line  = 50]\n",
      "[is_there_food  = false]\n",
      "[evolreg  = false]\n",
      "[zero_persistence_past_theline  = false]\n",
      "[season_experiment  = true]\n",
      "[season_duration  = 330]\n",
      "[init_k_ext_0t  = 0.000000e+00]\n",
      "[init_k_ext_Pt  = 0.000000e+00]\n",
      "[init_cell_config  = 0]\n",
      "Offset : 8, Table: 4 3 2 1 1 1\n",
      "Length = 6\n",
      "Reading Key Lock list file\n",
      "Got maxtau = 1\n",
      "New key-lock pairs for tau = 1\n",
      "1 0 0 1 1 0 1 0 1 0 1 1 0 0 0 1 1 0 0 0 1 1 1 0 \n",
      "0 0 1 1 1 1 0 0 0 1 0 0 0 1 1 1 0 1 1 1 0 0 0 1 \n",
      "\n",
      "Warning, this version is ***NOT*** suitable for pde field!!!\n",
      "\n",
      "WARNING, use wrapped boundaries if cells are A LOT smaller than sizex and sizey\n",
      "\n",
      "\n",
      "WARNING: DO NOT EVOLVE CHEMMU, or if you do, change the replication function (where it is always reset to init_chemmu)\n",
      "\n",
      "Randomizing random generator, seed is Random seed is 603582\n",
      "Using X11 graphics (batch mode). sizex and y are 500 500\n",
      "Placed 100 cells out of 100 requested; avrg area = 25\n",
      "nr cells placed 100\n",
      "[ cells = 100]\n",
      "mean_area = 25\n",
      "ConstructInitCells is done\n",
      "InitVectorJ done\n",
      "Hello, got food influx location: specified_experiment\n",
      "init chemmu is1\n",
      "TIME: 0\n",
      "First call - inside Write(), making colors\n",
      "generate color table\n",
      " /home/nraman1/.local/lib/python3.8/site-packages/GPy/core/gp.py:85: UserWarning:Your kernel has a different input dimension 3 then the given X dimension 1. Be very sure this is what you want and you have not forgotten to set the right input dimenion in your kernel\n"
     ]
    },
    {
     "ename": "AssertionError",
     "evalue": "At least 3 dimensional X needed, X.shape=(3, 1)",
     "output_type": "error",
     "traceback": [
      "\u001b[0;31m---------------------------------------------------------------------------\u001b[0m",
      "\u001b[0;31mAssertionError\u001b[0m                            Traceback (most recent call last)",
      "\u001b[0;32m/tmp/ipykernel_918/3650933563.py\u001b[0m in \u001b[0;36m<module>\u001b[0;34m\u001b[0m\n\u001b[1;32m      1\u001b[0m \u001b[0mY\u001b[0m \u001b[0;34m=\u001b[0m \u001b[0mget_reward\u001b[0m\u001b[0;34m(\u001b[0m\u001b[0mX\u001b[0m\u001b[0;34m)\u001b[0m\u001b[0;34m\u001b[0m\u001b[0;34m\u001b[0m\u001b[0m\n\u001b[1;32m      2\u001b[0m \u001b[0mkernel\u001b[0m \u001b[0;34m=\u001b[0m \u001b[0mGPy\u001b[0m\u001b[0;34m.\u001b[0m\u001b[0mkern\u001b[0m\u001b[0;34m.\u001b[0m\u001b[0mMatern52\u001b[0m\u001b[0;34m(\u001b[0m\u001b[0;36m3\u001b[0m\u001b[0;34m)\u001b[0m\u001b[0;34m\u001b[0m\u001b[0;34m\u001b[0m\u001b[0m\n\u001b[0;32m----> 3\u001b[0;31m \u001b[0mmodel_gpy\u001b[0m \u001b[0;34m=\u001b[0m \u001b[0mGPRegression\u001b[0m\u001b[0;34m(\u001b[0m\u001b[0mX\u001b[0m\u001b[0;34m,\u001b[0m\u001b[0mY\u001b[0m\u001b[0;34m,\u001b[0m\u001b[0mkernel\u001b[0m \u001b[0;34m=\u001b[0m \u001b[0mkernel\u001b[0m\u001b[0;34m)\u001b[0m\u001b[0;34m\u001b[0m\u001b[0;34m\u001b[0m\u001b[0m\n\u001b[0m\u001b[1;32m      4\u001b[0m \u001b[0mmodel_gpy\u001b[0m\u001b[0;34m.\u001b[0m\u001b[0mGaussian_noise\u001b[0m\u001b[0;34m.\u001b[0m\u001b[0mconstrain_fixed\u001b[0m\u001b[0;34m(\u001b[0m\u001b[0;36m1e-8\u001b[0m\u001b[0;34m)\u001b[0m  \u001b[0;31m## exact evaluations of the objective\u001b[0m\u001b[0;34m\u001b[0m\u001b[0;34m\u001b[0m\u001b[0m\n\u001b[1;32m      5\u001b[0m \u001b[0mmodel_gpy\u001b[0m\u001b[0;34m.\u001b[0m\u001b[0moptimize_restarts\u001b[0m\u001b[0;34m(\u001b[0m\u001b[0;36m3\u001b[0m\u001b[0;34m)\u001b[0m\u001b[0;34m\u001b[0m\u001b[0;34m\u001b[0m\u001b[0m\n",
      "\u001b[0;32m~/.local/lib/python3.8/site-packages/paramz/parameterized.py\u001b[0m in \u001b[0;36m__call__\u001b[0;34m(self, *args, **kw)\u001b[0m\n\u001b[1;32m     56\u001b[0m         \u001b[0mself\u001b[0m\u001b[0;34m.\u001b[0m\u001b[0m_model_initialized_\u001b[0m \u001b[0;34m=\u001b[0m \u001b[0;32mFalse\u001b[0m\u001b[0;34m\u001b[0m\u001b[0;34m\u001b[0m\u001b[0m\n\u001b[1;32m     57\u001b[0m         \u001b[0;32mif\u001b[0m \u001b[0minitialize\u001b[0m\u001b[0;34m:\u001b[0m\u001b[0;34m\u001b[0m\u001b[0;34m\u001b[0m\u001b[0m\n\u001b[0;32m---> 58\u001b[0;31m             \u001b[0mself\u001b[0m\u001b[0;34m.\u001b[0m\u001b[0minitialize_parameter\u001b[0m\u001b[0;34m(\u001b[0m\u001b[0;34m)\u001b[0m\u001b[0;34m\u001b[0m\u001b[0;34m\u001b[0m\u001b[0m\n\u001b[0m\u001b[1;32m     59\u001b[0m         \u001b[0;32melse\u001b[0m\u001b[0;34m:\u001b[0m\u001b[0;34m\u001b[0m\u001b[0;34m\u001b[0m\u001b[0m\n\u001b[1;32m     60\u001b[0m             \u001b[0;32mimport\u001b[0m \u001b[0mwarnings\u001b[0m\u001b[0;34m\u001b[0m\u001b[0;34m\u001b[0m\u001b[0m\n",
      "\u001b[0;32m~/.local/lib/python3.8/site-packages/paramz/core/parameter_core.py\u001b[0m in \u001b[0;36minitialize_parameter\u001b[0;34m(self)\u001b[0m\n\u001b[1;32m    335\u001b[0m         \u001b[0mself\u001b[0m\u001b[0;34m.\u001b[0m\u001b[0m_highest_parent_\u001b[0m\u001b[0;34m.\u001b[0m\u001b[0m_connect_parameters\u001b[0m\u001b[0;34m(\u001b[0m\u001b[0;34m)\u001b[0m \u001b[0;31m#logger.debug(\"calling parameters changed\")\u001b[0m\u001b[0;34m\u001b[0m\u001b[0;34m\u001b[0m\u001b[0m\n\u001b[1;32m    336\u001b[0m         \u001b[0mself\u001b[0m\u001b[0;34m.\u001b[0m\u001b[0m_highest_parent_\u001b[0m\u001b[0;34m.\u001b[0m\u001b[0m_connect_fixes\u001b[0m\u001b[0;34m(\u001b[0m\u001b[0;34m)\u001b[0m\u001b[0;34m\u001b[0m\u001b[0;34m\u001b[0m\u001b[0m\n\u001b[0;32m--> 337\u001b[0;31m         \u001b[0mself\u001b[0m\u001b[0;34m.\u001b[0m\u001b[0mtrigger_update\u001b[0m\u001b[0;34m(\u001b[0m\u001b[0;34m)\u001b[0m\u001b[0;34m\u001b[0m\u001b[0;34m\u001b[0m\u001b[0m\n\u001b[0m\u001b[1;32m    338\u001b[0m \u001b[0;34m\u001b[0m\u001b[0m\n\u001b[1;32m    339\u001b[0m     \u001b[0;34m@\u001b[0m\u001b[0mproperty\u001b[0m\u001b[0;34m\u001b[0m\u001b[0;34m\u001b[0m\u001b[0m\n",
      "\u001b[0;32m~/.local/lib/python3.8/site-packages/paramz/core/updateable.py\u001b[0m in \u001b[0;36mtrigger_update\u001b[0;34m(self, trigger_parent)\u001b[0m\n\u001b[1;32m     77\u001b[0m             \u001b[0;31m#print \"Warning: updates are off, updating the model will do nothing\"\u001b[0m\u001b[0;34m\u001b[0m\u001b[0;34m\u001b[0m\u001b[0;34m\u001b[0m\u001b[0m\n\u001b[1;32m     78\u001b[0m             \u001b[0;32mreturn\u001b[0m\u001b[0;34m\u001b[0m\u001b[0;34m\u001b[0m\u001b[0m\n\u001b[0;32m---> 79\u001b[0;31m         \u001b[0mself\u001b[0m\u001b[0;34m.\u001b[0m\u001b[0m_trigger_params_changed\u001b[0m\u001b[0;34m(\u001b[0m\u001b[0mtrigger_parent\u001b[0m\u001b[0;34m)\u001b[0m\u001b[0;34m\u001b[0m\u001b[0;34m\u001b[0m\u001b[0m\n\u001b[0m",
      "\u001b[0;32m~/.local/lib/python3.8/site-packages/paramz/core/parameter_core.py\u001b[0m in \u001b[0;36m_trigger_params_changed\u001b[0;34m(self, trigger_parent)\u001b[0m\n\u001b[1;32m    132\u001b[0m         \"\"\"\n\u001b[1;32m    133\u001b[0m         \u001b[0;34m[\u001b[0m\u001b[0mp\u001b[0m\u001b[0;34m.\u001b[0m\u001b[0m_trigger_params_changed\u001b[0m\u001b[0;34m(\u001b[0m\u001b[0mtrigger_parent\u001b[0m\u001b[0;34m=\u001b[0m\u001b[0;32mFalse\u001b[0m\u001b[0;34m)\u001b[0m \u001b[0;32mfor\u001b[0m \u001b[0mp\u001b[0m \u001b[0;32min\u001b[0m \u001b[0mself\u001b[0m\u001b[0;34m.\u001b[0m\u001b[0mparameters\u001b[0m \u001b[0;32mif\u001b[0m \u001b[0;32mnot\u001b[0m \u001b[0mp\u001b[0m\u001b[0;34m.\u001b[0m\u001b[0mis_fixed\u001b[0m\u001b[0;34m]\u001b[0m\u001b[0;34m\u001b[0m\u001b[0;34m\u001b[0m\u001b[0m\n\u001b[0;32m--> 134\u001b[0;31m         \u001b[0mself\u001b[0m\u001b[0;34m.\u001b[0m\u001b[0mnotify_observers\u001b[0m\u001b[0;34m(\u001b[0m\u001b[0;32mNone\u001b[0m\u001b[0;34m,\u001b[0m \u001b[0;32mNone\u001b[0m \u001b[0;32mif\u001b[0m \u001b[0mtrigger_parent\u001b[0m \u001b[0;32melse\u001b[0m \u001b[0;34m-\u001b[0m\u001b[0mnp\u001b[0m\u001b[0;34m.\u001b[0m\u001b[0minf\u001b[0m\u001b[0;34m)\u001b[0m\u001b[0;34m\u001b[0m\u001b[0;34m\u001b[0m\u001b[0m\n\u001b[0m\u001b[1;32m    135\u001b[0m \u001b[0;34m\u001b[0m\u001b[0m\n\u001b[1;32m    136\u001b[0m     \u001b[0;32mdef\u001b[0m \u001b[0m_size_transformed\u001b[0m\u001b[0;34m(\u001b[0m\u001b[0mself\u001b[0m\u001b[0;34m)\u001b[0m\u001b[0;34m:\u001b[0m\u001b[0;34m\u001b[0m\u001b[0;34m\u001b[0m\u001b[0m\n",
      "\u001b[0;32m~/.local/lib/python3.8/site-packages/paramz/core/observable.py\u001b[0m in \u001b[0;36mnotify_observers\u001b[0;34m(self, which, min_priority)\u001b[0m\n\u001b[1;32m     89\u001b[0m                 \u001b[0mwhich\u001b[0m \u001b[0;34m=\u001b[0m \u001b[0mself\u001b[0m\u001b[0;34m\u001b[0m\u001b[0;34m\u001b[0m\u001b[0m\n\u001b[1;32m     90\u001b[0m             \u001b[0;32mif\u001b[0m \u001b[0mmin_priority\u001b[0m \u001b[0;32mis\u001b[0m \u001b[0;32mNone\u001b[0m\u001b[0;34m:\u001b[0m\u001b[0;34m\u001b[0m\u001b[0;34m\u001b[0m\u001b[0m\n\u001b[0;32m---> 91\u001b[0;31m                 \u001b[0;34m[\u001b[0m\u001b[0mcallble\u001b[0m\u001b[0;34m(\u001b[0m\u001b[0mself\u001b[0m\u001b[0;34m,\u001b[0m \u001b[0mwhich\u001b[0m\u001b[0;34m=\u001b[0m\u001b[0mwhich\u001b[0m\u001b[0;34m)\u001b[0m \u001b[0;32mfor\u001b[0m \u001b[0m_\u001b[0m\u001b[0;34m,\u001b[0m \u001b[0m_\u001b[0m\u001b[0;34m,\u001b[0m \u001b[0mcallble\u001b[0m \u001b[0;32min\u001b[0m \u001b[0mself\u001b[0m\u001b[0;34m.\u001b[0m\u001b[0mobservers\u001b[0m\u001b[0;34m]\u001b[0m\u001b[0;34m\u001b[0m\u001b[0;34m\u001b[0m\u001b[0m\n\u001b[0m\u001b[1;32m     92\u001b[0m             \u001b[0;32melse\u001b[0m\u001b[0;34m:\u001b[0m\u001b[0;34m\u001b[0m\u001b[0;34m\u001b[0m\u001b[0m\n\u001b[1;32m     93\u001b[0m                 \u001b[0;32mfor\u001b[0m \u001b[0mp\u001b[0m\u001b[0;34m,\u001b[0m \u001b[0m_\u001b[0m\u001b[0;34m,\u001b[0m \u001b[0mcallble\u001b[0m \u001b[0;32min\u001b[0m \u001b[0mself\u001b[0m\u001b[0;34m.\u001b[0m\u001b[0mobservers\u001b[0m\u001b[0;34m:\u001b[0m\u001b[0;34m\u001b[0m\u001b[0;34m\u001b[0m\u001b[0m\n",
      "\u001b[0;32m~/.local/lib/python3.8/site-packages/paramz/core/observable.py\u001b[0m in \u001b[0;36m<listcomp>\u001b[0;34m(.0)\u001b[0m\n\u001b[1;32m     89\u001b[0m                 \u001b[0mwhich\u001b[0m \u001b[0;34m=\u001b[0m \u001b[0mself\u001b[0m\u001b[0;34m\u001b[0m\u001b[0;34m\u001b[0m\u001b[0m\n\u001b[1;32m     90\u001b[0m             \u001b[0;32mif\u001b[0m \u001b[0mmin_priority\u001b[0m \u001b[0;32mis\u001b[0m \u001b[0;32mNone\u001b[0m\u001b[0;34m:\u001b[0m\u001b[0;34m\u001b[0m\u001b[0;34m\u001b[0m\u001b[0m\n\u001b[0;32m---> 91\u001b[0;31m                 \u001b[0;34m[\u001b[0m\u001b[0mcallble\u001b[0m\u001b[0;34m(\u001b[0m\u001b[0mself\u001b[0m\u001b[0;34m,\u001b[0m \u001b[0mwhich\u001b[0m\u001b[0;34m=\u001b[0m\u001b[0mwhich\u001b[0m\u001b[0;34m)\u001b[0m \u001b[0;32mfor\u001b[0m \u001b[0m_\u001b[0m\u001b[0;34m,\u001b[0m \u001b[0m_\u001b[0m\u001b[0;34m,\u001b[0m \u001b[0mcallble\u001b[0m \u001b[0;32min\u001b[0m \u001b[0mself\u001b[0m\u001b[0;34m.\u001b[0m\u001b[0mobservers\u001b[0m\u001b[0;34m]\u001b[0m\u001b[0;34m\u001b[0m\u001b[0;34m\u001b[0m\u001b[0m\n\u001b[0m\u001b[1;32m     92\u001b[0m             \u001b[0;32melse\u001b[0m\u001b[0;34m:\u001b[0m\u001b[0;34m\u001b[0m\u001b[0;34m\u001b[0m\u001b[0m\n\u001b[1;32m     93\u001b[0m                 \u001b[0;32mfor\u001b[0m \u001b[0mp\u001b[0m\u001b[0;34m,\u001b[0m \u001b[0m_\u001b[0m\u001b[0;34m,\u001b[0m \u001b[0mcallble\u001b[0m \u001b[0;32min\u001b[0m \u001b[0mself\u001b[0m\u001b[0;34m.\u001b[0m\u001b[0mobservers\u001b[0m\u001b[0;34m:\u001b[0m\u001b[0;34m\u001b[0m\u001b[0;34m\u001b[0m\u001b[0m\n",
      "\u001b[0;32m~/.local/lib/python3.8/site-packages/paramz/core/parameter_core.py\u001b[0m in \u001b[0;36m_parameters_changed_notification\u001b[0;34m(self, me, which)\u001b[0m\n\u001b[1;32m    506\u001b[0m         \"\"\"\n\u001b[1;32m    507\u001b[0m         \u001b[0mself\u001b[0m\u001b[0;34m.\u001b[0m\u001b[0m_optimizer_copy_transformed\u001b[0m \u001b[0;34m=\u001b[0m \u001b[0;32mFalse\u001b[0m \u001b[0;31m# tells the optimizer array to update on next request\u001b[0m\u001b[0;34m\u001b[0m\u001b[0;34m\u001b[0m\u001b[0m\n\u001b[0;32m--> 508\u001b[0;31m         \u001b[0mself\u001b[0m\u001b[0;34m.\u001b[0m\u001b[0mparameters_changed\u001b[0m\u001b[0;34m(\u001b[0m\u001b[0;34m)\u001b[0m\u001b[0;34m\u001b[0m\u001b[0;34m\u001b[0m\u001b[0m\n\u001b[0m\u001b[1;32m    509\u001b[0m     \u001b[0;32mdef\u001b[0m \u001b[0m_pass_through_notify_observers\u001b[0m\u001b[0;34m(\u001b[0m\u001b[0mself\u001b[0m\u001b[0;34m,\u001b[0m \u001b[0mme\u001b[0m\u001b[0;34m,\u001b[0m \u001b[0mwhich\u001b[0m\u001b[0;34m=\u001b[0m\u001b[0;32mNone\u001b[0m\u001b[0;34m)\u001b[0m\u001b[0;34m:\u001b[0m\u001b[0;34m\u001b[0m\u001b[0;34m\u001b[0m\u001b[0m\n\u001b[1;32m    510\u001b[0m         \u001b[0mself\u001b[0m\u001b[0;34m.\u001b[0m\u001b[0mnotify_observers\u001b[0m\u001b[0;34m(\u001b[0m\u001b[0mwhich\u001b[0m\u001b[0;34m=\u001b[0m\u001b[0mwhich\u001b[0m\u001b[0;34m)\u001b[0m\u001b[0;34m\u001b[0m\u001b[0;34m\u001b[0m\u001b[0m\n",
      "\u001b[0;32m~/.local/lib/python3.8/site-packages/GPy/core/gp.py\u001b[0m in \u001b[0;36mparameters_changed\u001b[0;34m(self)\u001b[0m\n\u001b[1;32m    272\u001b[0m             \u001b[0mthis\u001b[0m \u001b[0mmethod\u001b[0m \u001b[0myourself\u001b[0m\u001b[0;34m,\u001b[0m \u001b[0mthere\u001b[0m \u001b[0mmay\u001b[0m \u001b[0mbe\u001b[0m \u001b[0munexpected\u001b[0m \u001b[0mconsequences\u001b[0m\u001b[0;34m.\u001b[0m\u001b[0;34m\u001b[0m\u001b[0;34m\u001b[0m\u001b[0m\n\u001b[1;32m    273\u001b[0m         \"\"\"\n\u001b[0;32m--> 274\u001b[0;31m         \u001b[0mself\u001b[0m\u001b[0;34m.\u001b[0m\u001b[0mposterior\u001b[0m\u001b[0;34m,\u001b[0m \u001b[0mself\u001b[0m\u001b[0;34m.\u001b[0m\u001b[0m_log_marginal_likelihood\u001b[0m\u001b[0;34m,\u001b[0m \u001b[0mself\u001b[0m\u001b[0;34m.\u001b[0m\u001b[0mgrad_dict\u001b[0m \u001b[0;34m=\u001b[0m \u001b[0mself\u001b[0m\u001b[0;34m.\u001b[0m\u001b[0minference_method\u001b[0m\u001b[0;34m.\u001b[0m\u001b[0minference\u001b[0m\u001b[0;34m(\u001b[0m\u001b[0mself\u001b[0m\u001b[0;34m.\u001b[0m\u001b[0mkern\u001b[0m\u001b[0;34m,\u001b[0m \u001b[0mself\u001b[0m\u001b[0;34m.\u001b[0m\u001b[0mX\u001b[0m\u001b[0;34m,\u001b[0m \u001b[0mself\u001b[0m\u001b[0;34m.\u001b[0m\u001b[0mlikelihood\u001b[0m\u001b[0;34m,\u001b[0m \u001b[0mself\u001b[0m\u001b[0;34m.\u001b[0m\u001b[0mY_normalized\u001b[0m\u001b[0;34m,\u001b[0m \u001b[0mself\u001b[0m\u001b[0;34m.\u001b[0m\u001b[0mmean_function\u001b[0m\u001b[0;34m,\u001b[0m \u001b[0mself\u001b[0m\u001b[0;34m.\u001b[0m\u001b[0mY_metadata\u001b[0m\u001b[0;34m)\u001b[0m\u001b[0;34m\u001b[0m\u001b[0;34m\u001b[0m\u001b[0m\n\u001b[0m\u001b[1;32m    275\u001b[0m         \u001b[0mself\u001b[0m\u001b[0;34m.\u001b[0m\u001b[0mlikelihood\u001b[0m\u001b[0;34m.\u001b[0m\u001b[0mupdate_gradients\u001b[0m\u001b[0;34m(\u001b[0m\u001b[0mself\u001b[0m\u001b[0;34m.\u001b[0m\u001b[0mgrad_dict\u001b[0m\u001b[0;34m[\u001b[0m\u001b[0;34m'dL_dthetaL'\u001b[0m\u001b[0;34m]\u001b[0m\u001b[0;34m)\u001b[0m\u001b[0;34m\u001b[0m\u001b[0;34m\u001b[0m\u001b[0m\n\u001b[1;32m    276\u001b[0m         \u001b[0mself\u001b[0m\u001b[0;34m.\u001b[0m\u001b[0mkern\u001b[0m\u001b[0;34m.\u001b[0m\u001b[0mupdate_gradients_full\u001b[0m\u001b[0;34m(\u001b[0m\u001b[0mself\u001b[0m\u001b[0;34m.\u001b[0m\u001b[0mgrad_dict\u001b[0m\u001b[0;34m[\u001b[0m\u001b[0;34m'dL_dK'\u001b[0m\u001b[0;34m]\u001b[0m\u001b[0;34m,\u001b[0m \u001b[0mself\u001b[0m\u001b[0;34m.\u001b[0m\u001b[0mX\u001b[0m\u001b[0;34m)\u001b[0m\u001b[0;34m\u001b[0m\u001b[0;34m\u001b[0m\u001b[0m\n",
      "\u001b[0;32m~/.local/lib/python3.8/site-packages/GPy/inference/latent_function_inference/exact_gaussian_inference.py\u001b[0m in \u001b[0;36minference\u001b[0;34m(self, kern, X, likelihood, Y, mean_function, Y_metadata, K, variance, Z_tilde)\u001b[0m\n\u001b[1;32m     51\u001b[0m \u001b[0;34m\u001b[0m\u001b[0m\n\u001b[1;32m     52\u001b[0m         \u001b[0;32mif\u001b[0m \u001b[0mK\u001b[0m \u001b[0;32mis\u001b[0m \u001b[0;32mNone\u001b[0m\u001b[0;34m:\u001b[0m\u001b[0;34m\u001b[0m\u001b[0;34m\u001b[0m\u001b[0m\n\u001b[0;32m---> 53\u001b[0;31m             \u001b[0mK\u001b[0m \u001b[0;34m=\u001b[0m \u001b[0mkern\u001b[0m\u001b[0;34m.\u001b[0m\u001b[0mK\u001b[0m\u001b[0;34m(\u001b[0m\u001b[0mX\u001b[0m\u001b[0;34m)\u001b[0m\u001b[0;34m\u001b[0m\u001b[0;34m\u001b[0m\u001b[0m\n\u001b[0m\u001b[1;32m     54\u001b[0m \u001b[0;34m\u001b[0m\u001b[0m\n\u001b[1;32m     55\u001b[0m         \u001b[0mKy\u001b[0m \u001b[0;34m=\u001b[0m \u001b[0mK\u001b[0m\u001b[0;34m.\u001b[0m\u001b[0mcopy\u001b[0m\u001b[0;34m(\u001b[0m\u001b[0;34m)\u001b[0m\u001b[0;34m\u001b[0m\u001b[0;34m\u001b[0m\u001b[0m\n",
      "\u001b[0;32m~/.local/lib/python3.8/site-packages/GPy/kern/src/kernel_slice_operations.py\u001b[0m in \u001b[0;36mwrap\u001b[0;34m(self, X, X2, *a, **kw)\u001b[0m\n\u001b[1;32m    107\u001b[0m     \u001b[0;34m@\u001b[0m\u001b[0mwraps\u001b[0m\u001b[0;34m(\u001b[0m\u001b[0mf\u001b[0m\u001b[0;34m)\u001b[0m\u001b[0;34m\u001b[0m\u001b[0;34m\u001b[0m\u001b[0m\n\u001b[1;32m    108\u001b[0m     \u001b[0;32mdef\u001b[0m \u001b[0mwrap\u001b[0m\u001b[0;34m(\u001b[0m\u001b[0mself\u001b[0m\u001b[0;34m,\u001b[0m \u001b[0mX\u001b[0m\u001b[0;34m,\u001b[0m \u001b[0mX2\u001b[0m \u001b[0;34m=\u001b[0m \u001b[0;32mNone\u001b[0m\u001b[0;34m,\u001b[0m \u001b[0;34m*\u001b[0m\u001b[0ma\u001b[0m\u001b[0;34m,\u001b[0m \u001b[0;34m**\u001b[0m\u001b[0mkw\u001b[0m\u001b[0;34m)\u001b[0m\u001b[0;34m:\u001b[0m\u001b[0;34m\u001b[0m\u001b[0;34m\u001b[0m\u001b[0m\n\u001b[0;32m--> 109\u001b[0;31m         \u001b[0;32mwith\u001b[0m \u001b[0m_Slice_wrap\u001b[0m\u001b[0;34m(\u001b[0m\u001b[0mself\u001b[0m\u001b[0;34m,\u001b[0m \u001b[0mX\u001b[0m\u001b[0;34m,\u001b[0m \u001b[0mX2\u001b[0m\u001b[0;34m)\u001b[0m \u001b[0;32mas\u001b[0m \u001b[0ms\u001b[0m\u001b[0;34m:\u001b[0m\u001b[0;34m\u001b[0m\u001b[0;34m\u001b[0m\u001b[0m\n\u001b[0m\u001b[1;32m    110\u001b[0m             \u001b[0mret\u001b[0m \u001b[0;34m=\u001b[0m \u001b[0mf\u001b[0m\u001b[0;34m(\u001b[0m\u001b[0mself\u001b[0m\u001b[0;34m,\u001b[0m \u001b[0ms\u001b[0m\u001b[0;34m.\u001b[0m\u001b[0mX\u001b[0m\u001b[0;34m,\u001b[0m \u001b[0ms\u001b[0m\u001b[0;34m.\u001b[0m\u001b[0mX2\u001b[0m\u001b[0;34m,\u001b[0m \u001b[0;34m*\u001b[0m\u001b[0ma\u001b[0m\u001b[0;34m,\u001b[0m \u001b[0;34m**\u001b[0m\u001b[0mkw\u001b[0m\u001b[0;34m)\u001b[0m\u001b[0;34m\u001b[0m\u001b[0;34m\u001b[0m\u001b[0m\n\u001b[1;32m    111\u001b[0m         \u001b[0;32mreturn\u001b[0m \u001b[0mret\u001b[0m\u001b[0;34m\u001b[0m\u001b[0;34m\u001b[0m\u001b[0m\n",
      "\u001b[0;32m~/.local/lib/python3.8/site-packages/GPy/kern/src/kernel_slice_operations.py\u001b[0m in \u001b[0;36m__init__\u001b[0;34m(self, k, X, X2, diag, ret_shape)\u001b[0m\n\u001b[1;32m     61\u001b[0m             \u001b[0;32massert\u001b[0m \u001b[0mX2\u001b[0m\u001b[0;34m.\u001b[0m\u001b[0mndim\u001b[0m \u001b[0;34m==\u001b[0m \u001b[0;36m2\u001b[0m\u001b[0;34m,\u001b[0m \u001b[0;34m\"need at least column vectors as inputs to kernels for now, given X2.shape={!s}\"\u001b[0m\u001b[0;34m.\u001b[0m\u001b[0mformat\u001b[0m\u001b[0;34m(\u001b[0m\u001b[0mX2\u001b[0m\u001b[0;34m.\u001b[0m\u001b[0mshape\u001b[0m\u001b[0;34m)\u001b[0m\u001b[0;34m\u001b[0m\u001b[0;34m\u001b[0m\u001b[0m\n\u001b[1;32m     62\u001b[0m         \u001b[0;32mif\u001b[0m \u001b[0;34m(\u001b[0m\u001b[0mself\u001b[0m\u001b[0;34m.\u001b[0m\u001b[0mk\u001b[0m\u001b[0;34m.\u001b[0m\u001b[0m_all_dims_active\u001b[0m \u001b[0;32mis\u001b[0m \u001b[0;32mnot\u001b[0m \u001b[0;32mNone\u001b[0m\u001b[0;34m)\u001b[0m \u001b[0;32mand\u001b[0m \u001b[0;34m(\u001b[0m\u001b[0mself\u001b[0m\u001b[0;34m.\u001b[0m\u001b[0mk\u001b[0m\u001b[0;34m.\u001b[0m\u001b[0m_sliced_X\u001b[0m \u001b[0;34m==\u001b[0m \u001b[0;36m0\u001b[0m\u001b[0;34m)\u001b[0m\u001b[0;34m:\u001b[0m\u001b[0;34m\u001b[0m\u001b[0;34m\u001b[0m\u001b[0m\n\u001b[0;32m---> 63\u001b[0;31m             \u001b[0mself\u001b[0m\u001b[0;34m.\u001b[0m\u001b[0mk\u001b[0m\u001b[0;34m.\u001b[0m\u001b[0m_check_active_dims\u001b[0m\u001b[0;34m(\u001b[0m\u001b[0mX\u001b[0m\u001b[0;34m)\u001b[0m\u001b[0;34m\u001b[0m\u001b[0;34m\u001b[0m\u001b[0m\n\u001b[0m\u001b[1;32m     64\u001b[0m             \u001b[0mself\u001b[0m\u001b[0;34m.\u001b[0m\u001b[0mX\u001b[0m \u001b[0;34m=\u001b[0m \u001b[0mself\u001b[0m\u001b[0;34m.\u001b[0m\u001b[0mk\u001b[0m\u001b[0;34m.\u001b[0m\u001b[0m_slice_X\u001b[0m\u001b[0;34m(\u001b[0m\u001b[0mX\u001b[0m\u001b[0;34m)\u001b[0m\u001b[0;34m\u001b[0m\u001b[0;34m\u001b[0m\u001b[0m\n\u001b[1;32m     65\u001b[0m             \u001b[0mself\u001b[0m\u001b[0;34m.\u001b[0m\u001b[0mX2\u001b[0m \u001b[0;34m=\u001b[0m \u001b[0mself\u001b[0m\u001b[0;34m.\u001b[0m\u001b[0mk\u001b[0m\u001b[0;34m.\u001b[0m\u001b[0m_slice_X\u001b[0m\u001b[0;34m(\u001b[0m\u001b[0mX2\u001b[0m\u001b[0;34m)\u001b[0m \u001b[0;32mif\u001b[0m \u001b[0mX2\u001b[0m \u001b[0;32mis\u001b[0m \u001b[0;32mnot\u001b[0m \u001b[0;32mNone\u001b[0m \u001b[0;32melse\u001b[0m \u001b[0mX2\u001b[0m\u001b[0;34m\u001b[0m\u001b[0;34m\u001b[0m\u001b[0m\n",
      "\u001b[0;32m~/.local/lib/python3.8/site-packages/GPy/kern/src/kern.py\u001b[0m in \u001b[0;36m_check_active_dims\u001b[0;34m(self, X)\u001b[0m\n\u001b[1;32m    359\u001b[0m \u001b[0;34m\u001b[0m\u001b[0m\n\u001b[1;32m    360\u001b[0m     \u001b[0;32mdef\u001b[0m \u001b[0m_check_active_dims\u001b[0m\u001b[0;34m(\u001b[0m\u001b[0mself\u001b[0m\u001b[0;34m,\u001b[0m \u001b[0mX\u001b[0m\u001b[0;34m)\u001b[0m\u001b[0;34m:\u001b[0m\u001b[0;34m\u001b[0m\u001b[0;34m\u001b[0m\u001b[0m\n\u001b[0;32m--> 361\u001b[0;31m         \u001b[0;32massert\u001b[0m \u001b[0mX\u001b[0m\u001b[0;34m.\u001b[0m\u001b[0mshape\u001b[0m\u001b[0;34m[\u001b[0m\u001b[0;36m1\u001b[0m\u001b[0;34m]\u001b[0m \u001b[0;34m>=\u001b[0m \u001b[0mlen\u001b[0m\u001b[0;34m(\u001b[0m\u001b[0mself\u001b[0m\u001b[0;34m.\u001b[0m\u001b[0m_all_dims_active\u001b[0m\u001b[0;34m)\u001b[0m\u001b[0;34m,\u001b[0m \u001b[0;34m\"At least {} dimensional X needed, X.shape={!s}\"\u001b[0m\u001b[0;34m.\u001b[0m\u001b[0mformat\u001b[0m\u001b[0;34m(\u001b[0m\u001b[0mlen\u001b[0m\u001b[0;34m(\u001b[0m\u001b[0mself\u001b[0m\u001b[0;34m.\u001b[0m\u001b[0m_all_dims_active\u001b[0m\u001b[0;34m)\u001b[0m\u001b[0;34m,\u001b[0m \u001b[0mX\u001b[0m\u001b[0;34m.\u001b[0m\u001b[0mshape\u001b[0m\u001b[0;34m)\u001b[0m\u001b[0;34m\u001b[0m\u001b[0;34m\u001b[0m\u001b[0m\n\u001b[0m\u001b[1;32m    362\u001b[0m \u001b[0;34m\u001b[0m\u001b[0m\n\u001b[1;32m    363\u001b[0m \u001b[0;32mclass\u001b[0m \u001b[0mCombinationKernel\u001b[0m\u001b[0;34m(\u001b[0m\u001b[0mKern\u001b[0m\u001b[0;34m)\u001b[0m\u001b[0;34m:\u001b[0m\u001b[0;34m\u001b[0m\u001b[0;34m\u001b[0m\u001b[0m\n",
      "\u001b[0;31mAssertionError\u001b[0m: At least 3 dimensional X needed, X.shape=(3, 1)"
     ]
    }
   ],
   "source": [
    "Y = get_reward(X)\n",
    "kernel = GPy.kern.Matern52(3)\n",
    "model_gpy = GPRegression(X,Y,kernel = kernel) \n",
    "model_gpy.Gaussian_noise.constrain_fixed(1e-8)  ## exact evaluations of the objective\n",
    "model_gpy.optimize_restarts(3)\n",
    "model_emukit = GPyModelWrapper(model_gpy)\n",
    "model_emukit.optimize()"
   ]
  },
  {
   "cell_type": "code",
   "execution_count": null,
   "metadata": {},
   "outputs": [],
   "source": []
  }
 ],
 "metadata": {
  "kernelspec": {
   "display_name": "Python 3 (ipykernel)",
   "language": "python",
   "name": "python3"
  },
  "language_info": {
   "codemirror_mode": {
    "name": "ipython",
    "version": 3
   },
   "file_extension": ".py",
   "mimetype": "text/x-python",
   "name": "python",
   "nbconvert_exporter": "python",
   "pygments_lexer": "ipython3",
   "version": "3.8.10"
  },
  "vscode": {
   "interpreter": {
    "hash": "ac553b53807d6059205a783708d1e08f61d049a184a5375569a266b0ccfc06c6"
   }
  }
 },
 "nbformat": 4,
 "nbformat_minor": 4
}
