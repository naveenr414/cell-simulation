{
 "cells": [
  {
   "attachments": {},
   "cell_type": "markdown",
   "metadata": {},
   "source": [
    "\n",
    "Single cell simulation - to explore the output parameters and match the peak of the gradient "
   ]
  },
  {
   "cell_type": "code",
   "execution_count": 1,
   "metadata": {},
   "outputs": [],
   "source": [
    "%load_ext autoreload\n",
    "%autoreload 2"
   ]
  },
  {
   "cell_type": "code",
   "execution_count": 2,
   "metadata": {},
   "outputs": [],
   "source": [
    "import os\n",
    "os.chdir(\"../\")"
   ]
  },
  {
   "cell_type": "code",
   "execution_count": 3,
   "metadata": {},
   "outputs": [],
   "source": [
    "from data_processing.start_experiment import *\n",
    "from data_processing.read_data import *\n",
    "from data_processing.gaussian import *"
   ]
  },
  {
   "cell_type": "code",
   "execution_count": 4,
   "metadata": {},
   "outputs": [],
   "source": [
    "parameter_list = ['evolsim', 'n_init_cells']"
   ]
  },
  {
   "cell_type": "code",
   "execution_count": 5,
   "metadata": {},
   "outputs": [],
   "source": [
    "parameter_space = ParameterSpace([DiscreteParameter('evolsim', list(range(0,1))),\n",
    "                                DiscreteParameter('n_init_cells', list(range(1,2)))])"
   ]
  },
  {
   "cell_type": "code",
   "execution_count": 6,
   "metadata": {},
   "outputs": [],
   "source": [
    "mcs = 50*500\n",
    "num_experiments = 1"
   ]
  },
  {
   "cell_type": "code",
   "execution_count": 7,
   "metadata": {},
   "outputs": [],
   "source": [
    "X = run_simulation_latin(parameter_space, num_experiments, 0, {'mcs': mcs, 'storage_stride': 10*10})"
   ]
  },
  {
   "attachments": {},
   "cell_type": "markdown",
   "metadata": {},
   "source": [
    "# Take aways "
   ]
  },
  {
   "attachments": {},
   "cell_type": "markdown",
   "metadata": {},
   "source": [
    "* The cell output data shows Y-position first, then X-position\n",
    "* the Y-axis starts at the top of the screen with 0, and ends at the bottom with approx 500. \n",
    "* The X-axis starts on the left of the screen with 0, and ends at the right of the screen with approx 500. \n",
    "* The middle of the screen is 245,245"
   ]
  },
  {
   "attachments": {},
   "cell_type": "markdown",
   "metadata": {},
   "source": [
    "# Conclusion"
   ]
  },
  {
   "attachments": {},
   "cell_type": "markdown",
   "metadata": {},
   "source": [
    "\n",
    "* The peak of the gradient is at approximately (250, 0) (middle of East-most boundary)\n",
    "* TODO: Check how the vectors are computed (need to make sure which is Y and which is X)"
   ]
  }
 ],
 "metadata": {
  "kernelspec": {
   "display_name": "Python 3 (ipykernel)",
   "language": "python",
   "name": "python3"
  },
  "language_info": {
   "codemirror_mode": {
    "name": "ipython",
    "version": 3
   },
   "file_extension": ".py",
   "mimetype": "text/x-python",
   "name": "python",
   "nbconvert_exporter": "python",
   "pygments_lexer": "ipython3",
   "version": "3.9.13 (tags/v3.9.13:6de2ca5, May 17 2022, 16:36:42) [MSC v.1929 64 bit (AMD64)]"
  },
  "vscode": {
   "interpreter": {
    "hash": "4aa652550647b969ee017fbe596928b6ffc84d6ce7ad55201fdcdba3f5c34bb0"
   }
  }
 },
 "nbformat": 4,
 "nbformat_minor": 2
}
